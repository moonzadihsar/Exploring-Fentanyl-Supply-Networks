{
 "cells": [
  {
   "cell_type": "code",
   "execution_count": 1,
   "id": "cd26c353",
   "metadata": {},
   "outputs": [],
   "source": [
    "jensen_fentanyl_nodes_1 = ['NPP', 'Aniline', 'Lithium Aluminium Hydride', 'P-toluenesulfonic Acid']\n",
    "jensen_fentanyl_nodes_2 = ['Propionic Anhydride', '1-benzyl-4-anilinopiperidine','Toluene']\n",
    "jensen_fentanyl_nodes_3 = ['Palladium on Carbon', 'Hydrogen','Ethanol', '1-benzyl-4-N-propionyl-anlinopiperidine']\n",
    "jensen_fentanyl_nodes_4 = ['Phenylethylchloride','Sodium Carbonate','Potassium Iodide','4-methyl-2-pentanone', 'Norfentanyl']\n",
    "jensen_fentanyl_nodes_5=['Fentanyl']\n",
    "jensen=jensen_fentanyl_nodes_1+jensen_fentanyl_nodes_2+jensen_fentanyl_nodes_3+jensen_fentanyl_nodes_4+jensen_fentanyl_nodes_5\n",
    "\n",
    "zee_fentanyl_nodes_1=['Pyridine','Thionyl Chloride','Ethanol','Methanol']\n",
    "zee_fentanyl_nodes_2=['Pirydilpyridinium Chloride','Aniline Hydrochloride','Sodium Hydroxide','Ethanol']\n",
    "zee_fentanyl_nodes_3=['Propionic Anhydride','4-anilinopyridine','Sodium Hydroxide','Ethanol']\n",
    "zee_fentanyl_nodes_4=['Ethanol','Phenethyl Bromide','Toluene','N-(4-pyridil)-propionanilide']\n",
    "zee_fentanyl_nodes_5=['Sodium Hydroxide','Chloroform','Sodium Sulfate','Methanol','Platinum Oxide','Hydrogen','Acetic Acid','Ethanol','1-phenylethyl-4-propionanilinopyridinium Bromide']\n",
    "zee_fentanyl_nodes_6=['Toluene','Propionic Anhydride','Sodium Hydroxide','Sodium Sulfate','Methanol', 'N-hexane','1-Phenylethyl-4-anilinopiperidine']\n",
    "zee_fentanyl_nodes_7=['Fentanyl']\n",
    "zee=zee_fentanyl_nodes_1+zee_fentanyl_nodes_2+zee_fentanyl_nodes_3+zee_fentanyl_nodes_4+zee_fentanyl_nodes_5+zee_fentanyl_nodes_6\n",
    "\n",
    "jonczyk_fentanyl_nodes_1= ['Phenethylamine', 'Methyl Acrylate']\n",
    "jonczyk_fentanyl_nodes_2= ['Sodium Methoxide', 'Hydrogen', 'N,N-bis(2-methoxycarbonylethyl)phenethylamine']\n",
    "jonczyk_fentanyl_nodes_3= ['Aniline', 'Toluene', 'NPP', 'P-toluenesulfonic Acid', 'Lithium Aluminium Hydride','Sodium Borohydride']\n",
    "jonczyk_fentanyl_nodes_4= ['ANPP', 'Propionyl Chloride','Benzene']\n",
    "jonczyk_fentanyl_nodes_5= ['Fentanyl Hydrochloride']\n",
    "jonczyk=jonczyk_fentanyl_nodes_1+jonczyk_fentanyl_nodes_2+jonczyk_fentanyl_nodes_3+jonczyk_fentanyl_nodes_4+jonczyk_fentanyl_nodes_5\n",
    "\n",
    "optim_fentanyl_nodes_1=[\"Sodium Chloride\", \"Sodium Bicarbonate\", \"Sodium Sulfate\", \"Cesium Carbonate\", \"Phenethyl Bromide\", \"4-piperidone Hydrochloride\", \"Acetonitrile\", \"Ethyl Acetate\", \"Dichloromethane\"]\n",
    "optim_fentanyl_nodes_2=[\"Acetic Acid\", \"Sodium Triacetoxyborohydride\", \"Aniline\", \"Dichloromethane\", \"Sodium Bicarbonate\", \"Sodium Chloride\", \"Sodium Sulfate\", \"Ethyl Acetate\", \"NPP\"]\n",
    "optim_fentanyl_nodes_3=[\"Hunig's Base\",\"Propionyl Chloride\",\"Sodium Chloride\",\"Sodium Bicarbonate\",\"Sodium Sulfate\",\"Ethyl Acetate\",\"Dichloromethane\",\"ANPP\"]\n",
    "optim_fentanyl_nodes_4=['Fentanyl']\n",
    "optim=optim_fentanyl_nodes_1+optim_fentanyl_nodes_2+optim_fentanyl_nodes_3+optim_fentanyl_nodes_4\n",
    "\n",
    "sigfried_fentanyl_nodes_1=['4-piperidone Hydrochloride','Acetonitrile','Potassium Carbonate','TBAB','TEBA','Polyethylene Glycol','Phenethyl Bromide','Phenethyl Tosylate','Sodium Sulfate']\n",
    "sigfried_fentanyl_nodes_2=['NPP','Aniline','4A Molecular Sieve']\n",
    "sigfried_fentanyl_nodes_3=['NPP N Phenyl-imine','Tetrahydrofuran','Methanol','Sodium Borohydride','Hydrochloric Acid','Sodium Chloride']\n",
    "sigfried_fentanyl_nodes_4=['ANPP Hydrochloride','Sodium Hydroxide','Dichloromethane']\n",
    "sigfried_fentanyl_nodes_5=['ANPP','Pyridine','Propionyl Chloride','Hydrochloric Acid','Dichloromethane','Sodium Chloride','Acetone']\n",
    "sigfried_fentanyl_nodes_6=['Fentanyl Hydrochloride']\n",
    "sigfried=sigfried_fentanyl_nodes_1+sigfried_fentanyl_nodes_2+sigfried_fentanyl_nodes_3+sigfried_fentanyl_nodes_4+sigfried_fentanyl_nodes_5+sigfried_fentanyl_nodes_6\n",
    "\n",
    "gupta_fentanyl_nodes_1=['Nitrogen','Phenylacetaldehyde','4-piperidone Hydrochloride','Dichloroethane','Triethylamine','Sodium Triacetoxyborohydride']\n",
    "gupta_fentanyl_nodes_2=['NPP','Aniline','Sodium Triacetoxyborhydride','Acetic Acid']\n",
    "gupta_fentanyl_nodes_3=['ANPP','Propionyl Chloride','Dichloromethane','Sodium Hydroxide','Hydrochloric Acid','Sodium Sulfate','Acetone','Sodium Hydroxide','Petroleum Ether']\n",
    "gupta_fentanyl_nodes_4=['Fentanyl Hydrochloride']\n",
    "gupta=gupta_fentanyl_nodes_1+gupta_fentanyl_nodes_2+gupta_fentanyl_nodes_3+gupta_fentanyl_nodes_4\n",
    "\n",
    "devcom_fentanyl_nodes_1=['t-BOC-4-piperidone','1,2-dichloroethane','Cesium Carbonate','Acetic Acid','Sodium Triacetoxyborohydride']\n",
    "devcom_fentanyl_nodes_2=['t-BOC-4-AP','Propionyl Chloride','Dichloromethane']\n",
    "devcom_fentanyl_nodes_3=['t-BOC-Norfenanyl','Hydrochloric Acid','Methanol','2-bromoethylbenzene','Acetonitrile']\n",
    "devcom_fentanyl_nodes_4=['Fentanyl']\n",
    "\n",
    "devcom=devcom_fentanyl_nodes_1+devcom_fentanyl_nodes_2+devcom_fentanyl_nodes_3+devcom_fentanyl_nodes_4\n",
    "\n"
   ]
  },
  {
   "cell_type": "markdown",
   "id": "51ea40e2",
   "metadata": {},
   "source": [
    "N Boc 4 piperidone\n",
    "N-BOC-3-METHYL-4 PIPERIDONE\n",
    "N-BENZYL-4-PIPERIDONE\n",
    "4-PIPERIDONE HYDROCHLORIDE MONOHYDRATE\n",
    "N-METHYL-4-CHLORO PIPERIDINE"
   ]
  },
  {
   "cell_type": "code",
   "execution_count": 77,
   "id": "f623fc11",
   "metadata": {},
   "outputs": [
    {
     "name": "stdout",
     "output_type": "stream",
     "text": [
      "['1-Phenylethyl-4-anilinopiperidine', '1-benzyl-4-N-propionyl-anlinopiperidine', '1-benzyl-4-anilinopiperidine', '1-phenylethyl-4-propionanilinopyridinium Bromide', '4-anilinopyridine', '4-methyl-2-pentanone', '4-piperidone Hydrochloride', '4A Molecular Sieve', 'ANPP', 'ANPP Hydrochloride', 'Acetic Acid', 'Acetone', 'Acetonitrile', 'Aniline', 'Aniline Hydrochloride', 'Benzene', 'Cesium Carbonate', 'Chloroform', 'Dichloroethane', 'Dichloromethane', 'Ethanol', 'Ethyl Acetate', 'Fentanyl', 'Fentanyl Hydrochloride', \"Hunig's Base\", 'Hydrochloric Acid', 'Hydrogen', 'Lithium Aluminium Hydride', 'Methanol', 'Methyl Acrylate', 'N,N-bis(2-methoxycarbonylethyl)phenethylamine', 'N-(4-pyridil)-propionanilide', 'N-hexane', 'NPP', 'NPP N Phenyl-imine', 'Nitrogen', 'Norfentanyl', 'P-toluenesulfonic Acid', 'Palladium on Carbon', 'Petroleum Ether', 'Phenethyl Bromide', 'Phenethyl Tosylate', 'Phenethylamine', 'Phenylacetaldehyde', 'Phenylethylchloride', 'Pirydilpyridinium Chloride', 'Platinum Oxide', 'Polyethylene Glycol', 'Potassium Carbonate', 'Potassium Iodide', 'Propionic Anhydride', 'Propionyl Chloride', 'Pyridine', 'Sodium Bicarbonate', 'Sodium Borohydride', 'Sodium Carbonate', 'Sodium Chloride', 'Sodium Hydroxide', 'Sodium Methoxide', 'Sodium Sulfate', 'Sodium Triacetoxyborhydride', 'Sodium Triacetoxyborohydride', 'TBAB', 'TEBA', 'Tetrahydrofuran', 'Thionyl Chloride', 'Toluene', 'Triethylamine']\n"
     ]
    }
   ],
   "source": [
    "x=set(jensen+zee+jonczyk+optim+sigfried+gupta)\n",
    "print(sorted(x))\n",
    "# print(len(set(jensen+zee+jonczyk+optim+sigfried+gupta)))"
   ]
  },
  {
   "cell_type": "markdown",
   "id": "4bd4016f",
   "metadata": {},
   "source": [
    "Which Ingredient Appears The Most?"
   ]
  },
  {
   "cell_type": "code",
   "execution_count": 78,
   "id": "93d002f3",
   "metadata": {},
   "outputs": [
    {
     "name": "stdout",
     "output_type": "stream",
     "text": [
      "68\n",
      "[('NPP', 5), ('Aniline', 5), ('Sodium Sulfate', 4), ('ANPP', 4), ('Propionyl Chloride', 4), ('Hydrogen', 3), ('Toluene', 3), ('Phenethyl Bromide', 3), ('Sodium Hydroxide', 3), ('Acetic Acid', 3), ('Fentanyl Hydrochloride', 3), ('4-piperidone Hydrochloride', 3), ('Dichloromethane', 3), ('Propionic Anhydride', 2), ('Fentanyl', 2), ('Ethanol', 2), ('P-toluenesulfonic Acid', 2), ('Lithium Aluminium Hydride', 2), ('Pyridine', 2), ('Methanol', 2), ('Sodium Borohydride', 2), ('Sodium Triacetoxyborohydride', 2), ('Sodium Chloride', 2), ('Acetonitrile', 2), ('Hydrochloric Acid', 2), ('Acetone', 2), ('4-methyl-2-pentanone', 1), ('1-benzyl-4-anilinopiperidine', 1)]\n",
      "NPP\n"
     ]
    }
   ],
   "source": [
    "appearance={}\n",
    "for ind_list in [jensen,zee,jonczyk,optim,sigfried,gupta]:\n",
    "    for node in set(ind_list):\n",
    "        appearance[node]=appearance.get(node, 0)+1\n",
    "print(len(appearance))\n",
    "import heapq\n",
    "top5 = heapq.nlargest(28\n",
    ", appearance.items(), key=lambda x: x[1])\n",
    "print(top5)\n",
    "print(max(appearance, key=appearance.get))\n"
   ]
  },
  {
   "cell_type": "markdown",
   "id": "44a7edf6",
   "metadata": {},
   "source": [
    "What is the Maximum Size of Common Ingredients?"
   ]
  },
  {
   "cell_type": "code",
   "execution_count": 79,
   "id": "a902666e",
   "metadata": {},
   "outputs": [
    {
     "name": "stdout",
     "output_type": "stream",
     "text": [
      "6\n"
     ]
    }
   ],
   "source": [
    "from itertools import combinations\n",
    "ingredient_sets = [set(ind_list) for ind_list in [jensen, zee, jonczyk, optim, sigfried, gupta]]\n",
    "print(len(ingredient_sets))\n",
    "max_k = max(len(set.intersection(*grp)) for grp in combinations(ingredient_sets, 3))"
   ]
  },
  {
   "cell_type": "markdown",
   "id": "d886100c",
   "metadata": {},
   "source": []
  },
  {
   "cell_type": "code",
   "execution_count": 80,
   "id": "1329c23e",
   "metadata": {},
   "outputs": [
    {
     "name": "stdout",
     "output_type": "stream",
     "text": [
      "frozenset({'4-piperidone Hydrochloride'}) 3\n",
      "frozenset({'ANPP'}) 4\n",
      "frozenset({'Acetic Acid'}) 3\n",
      "frozenset({'Aniline'}) 5\n",
      "frozenset({'Dichloromethane'}) 3\n",
      "frozenset({'Fentanyl Hydrochloride'}) 3\n",
      "frozenset({'Hydrogen'}) 3\n",
      "frozenset({'NPP'}) 5\n",
      "frozenset({'Phenethyl Bromide'}) 3\n",
      "frozenset({'Propionyl Chloride'}) 4\n",
      "frozenset({'Sodium Hydroxide'}) 3\n",
      "frozenset({'Sodium Sulfate'}) 4\n",
      "frozenset({'Toluene'}) 3\n",
      "frozenset({'Hydrogen', 'Toluene'}) 3\n",
      "frozenset({'NPP', 'Dichloromethane'}) 3\n",
      "frozenset({'NPP', 'Fentanyl Hydrochloride'}) 3\n",
      "frozenset({'NPP', 'ANPP'}) 4\n",
      "frozenset({'Sodium Sulfate', 'Phenethyl Bromide'}) 3\n",
      "frozenset({'4-piperidone Hydrochloride', 'NPP'}) 3\n",
      "frozenset({'NPP', 'Aniline'}) 5\n",
      "frozenset({'Fentanyl Hydrochloride', 'Propionyl Chloride'}) 3\n",
      "frozenset({'NPP', 'Sodium Sulfate'}) 3\n",
      "frozenset({'Sodium Sulfate', 'Aniline'}) 3\n",
      "frozenset({'Dichloromethane', 'Aniline'}) 3\n",
      "frozenset({'4-piperidone Hydrochloride', 'Aniline'}) 3\n",
      "frozenset({'Sodium Sulfate', 'ANPP'}) 3\n",
      "frozenset({'4-piperidone Hydrochloride', 'Propionyl Chloride'}) 3\n",
      "frozenset({'Dichloromethane', 'ANPP'}) 3\n",
      "frozenset({'ANPP', 'Aniline'}) 4\n",
      "frozenset({'4-piperidone Hydrochloride', 'Sodium Sulfate'}) 3\n",
      "frozenset({'Fentanyl Hydrochloride', 'Aniline'}) 3\n",
      "frozenset({'Sodium Hydroxide', 'Sodium Sulfate'}) 3\n",
      "frozenset({'Sodium Sulfate', 'Dichloromethane'}) 3\n",
      "frozenset({'Sodium Sulfate', 'Acetic Acid'}) 3\n",
      "frozenset({'Propionyl Chloride', 'Aniline'}) 4\n",
      "frozenset({'Dichloromethane', 'Propionyl Chloride'}) 3\n",
      "frozenset({'Fentanyl Hydrochloride', 'ANPP'}) 3\n",
      "frozenset({'ANPP', 'Propionyl Chloride'}) 4\n",
      "frozenset({'4-piperidone Hydrochloride', 'ANPP'}) 3\n",
      "frozenset({'Sodium Sulfate', 'Propionyl Chloride'}) 3\n",
      "frozenset({'4-piperidone Hydrochloride', 'Dichloromethane'}) 3\n",
      "frozenset({'NPP', 'Propionyl Chloride'}) 4\n",
      "frozenset({'4-piperidone Hydrochloride', 'Sodium Sulfate', 'ANPP'}) 3\n",
      "frozenset({'Sodium Sulfate', 'Dichloromethane', 'Aniline'}) 3\n",
      "frozenset({'NPP', 'ANPP', 'Propionyl Chloride'}) 4\n",
      "frozenset({'NPP', 'Sodium Sulfate', 'Aniline'}) 3\n",
      "frozenset({'NPP', 'ANPP', 'Aniline'}) 4\n",
      "frozenset({'4-piperidone Hydrochloride', 'ANPP', 'Propionyl Chloride'}) 3\n",
      "frozenset({'4-piperidone Hydrochloride', 'Dichloromethane', 'ANPP'}) 3\n",
      "frozenset({'NPP', '4-piperidone Hydrochloride', 'ANPP'}) 3\n",
      "frozenset({'NPP', 'Propionyl Chloride', 'Aniline'}) 4\n",
      "frozenset({'4-piperidone Hydrochloride', 'Sodium Sulfate', 'NPP'}) 3\n",
      "frozenset({'Sodium Sulfate', 'Propionyl Chloride', 'Aniline'}) 3\n",
      "frozenset({'Sodium Sulfate', 'Dichloromethane', 'Propionyl Chloride'}) 3\n",
      "frozenset({'NPP', 'Sodium Sulfate', 'Dichloromethane'}) 3\n",
      "frozenset({'NPP', 'Sodium Sulfate', 'Propionyl Chloride'}) 3\n",
      "frozenset({'4-piperidone Hydrochloride', 'Sodium Sulfate', 'Aniline'}) 3\n",
      "frozenset({'4-piperidone Hydrochloride', 'ANPP', 'Aniline'}) 3\n",
      "frozenset({'4-piperidone Hydrochloride', 'Sodium Sulfate', 'Propionyl Chloride'}) 3\n",
      "frozenset({'ANPP', 'Propionyl Chloride', 'Aniline'}) 4\n",
      "frozenset({'Sodium Sulfate', 'ANPP', 'Propionyl Chloride'}) 3\n",
      "frozenset({'NPP', 'Dichloromethane', 'Aniline'}) 3\n",
      "frozenset({'NPP', 'Dichloromethane', 'Propionyl Chloride'}) 3\n",
      "frozenset({'Dichloromethane', 'ANPP', 'Propionyl Chloride'}) 3\n",
      "frozenset({'4-piperidone Hydrochloride', 'Dichloromethane', 'Aniline'}) 3\n",
      "frozenset({'4-piperidone Hydrochloride', 'Propionyl Chloride', 'Aniline'}) 3\n",
      "frozenset({'Dichloromethane', 'ANPP', 'Aniline'}) 3\n",
      "frozenset({'4-piperidone Hydrochloride', 'NPP', 'Aniline'}) 3\n",
      "frozenset({'NPP', 'Dichloromethane', 'ANPP'}) 3\n",
      "frozenset({'Fentanyl Hydrochloride', 'Propionyl Chloride', 'Aniline'}) 3\n",
      "frozenset({'NPP', 'Dichloromethane', '4-piperidone Hydrochloride'}) 3\n",
      "frozenset({'Sodium Sulfate', 'Dichloromethane', 'ANPP'}) 3\n",
      "frozenset({'Dichloromethane', 'Propionyl Chloride', 'Aniline'}) 3\n",
      "frozenset({'NPP', 'Fentanyl Hydrochloride', 'ANPP'}) 3\n",
      "frozenset({'Sodium Sulfate', 'ANPP', 'Aniline'}) 3\n",
      "frozenset({'NPP', 'Sodium Sulfate', 'ANPP'}) 3\n",
      "frozenset({'Fentanyl Hydrochloride', 'ANPP', 'Aniline'}) 3\n",
      "frozenset({'4-piperidone Hydrochloride', 'Sodium Sulfate', 'Dichloromethane'}) 3\n",
      "frozenset({'Fentanyl Hydrochloride', 'ANPP', 'Propionyl Chloride'}) 3\n",
      "frozenset({'NPP', 'Fentanyl Hydrochloride', 'Propionyl Chloride'}) 3\n",
      "frozenset({'4-piperidone Hydrochloride', 'Dichloromethane', 'Propionyl Chloride'}) 3\n",
      "frozenset({'NPP', 'Fentanyl Hydrochloride', 'Aniline'}) 3\n",
      "frozenset({'4-piperidone Hydrochloride', 'NPP', 'Propionyl Chloride'}) 3\n",
      "frozenset({'Sodium Sulfate', 'Propionyl Chloride', 'Aniline', '4-piperidone Hydrochloride'}) 3\n",
      "frozenset({'Sodium Sulfate', 'Dichloromethane', 'Aniline', '4-piperidone Hydrochloride'}) 3\n",
      "frozenset({'NPP', 'ANPP', 'Aniline', 'Fentanyl Hydrochloride'}) 3\n",
      "frozenset({'NPP', 'Sodium Sulfate', 'Dichloromethane', 'Propionyl Chloride'}) 3\n",
      "frozenset({'NPP', 'Sodium Sulfate', 'ANPP', '4-piperidone Hydrochloride'}) 3\n",
      "frozenset({'NPP', 'Sodium Sulfate', 'Dichloromethane', 'Aniline'}) 3\n",
      "frozenset({'NPP', 'Dichloromethane', 'ANPP', '4-piperidone Hydrochloride'}) 3\n",
      "frozenset({'Sodium Sulfate', 'ANPP', 'Aniline', '4-piperidone Hydrochloride'}) 3\n",
      "frozenset({'NPP', 'ANPP', 'Aniline', '4-piperidone Hydrochloride'}) 3\n",
      "frozenset({'NPP', 'Sodium Sulfate', 'Propionyl Chloride', '4-piperidone Hydrochloride'}) 3\n",
      "frozenset({'NPP', 'ANPP', 'Propionyl Chloride', '4-piperidone Hydrochloride'}) 3\n",
      "frozenset({'Dichloromethane', 'ANPP', 'Aniline', '4-piperidone Hydrochloride'}) 3\n",
      "frozenset({'Dichloromethane', 'ANPP', 'Propionyl Chloride', '4-piperidone Hydrochloride'}) 3\n",
      "frozenset({'NPP', 'Dichloromethane', 'ANPP', 'Aniline'}) 3\n",
      "frozenset({'NPP', 'ANPP', 'Propionyl Chloride', 'Aniline'}) 4\n",
      "frozenset({'NPP', 'Sodium Sulfate', 'Propionyl Chloride', 'Aniline'}) 3\n",
      "frozenset({'NPP', 'Propionyl Chloride', 'Aniline', 'Fentanyl Hydrochloride'}) 3\n",
      "frozenset({'Sodium Sulfate', 'Dichloromethane', 'Propionyl Chloride', 'Aniline'}) 3\n",
      "frozenset({'Sodium Sulfate', 'Dichloromethane', 'ANPP', '4-piperidone Hydrochloride'}) 3\n",
      "frozenset({'Sodium Sulfate', 'ANPP', 'Propionyl Chloride', '4-piperidone Hydrochloride'}) 3\n",
      "frozenset({'NPP', 'Sodium Sulfate', 'Dichloromethane', '4-piperidone Hydrochloride'}) 3\n",
      "frozenset({'NPP', 'Sodium Sulfate', 'ANPP', 'Aniline'}) 3\n",
      "frozenset({'ANPP', 'Propionyl Chloride', 'Aniline', 'Fentanyl Hydrochloride'}) 3\n",
      "frozenset({'NPP', 'Sodium Sulfate', 'Aniline', '4-piperidone Hydrochloride'}) 3\n",
      "frozenset({'NPP', 'Sodium Sulfate', 'ANPP', 'Propionyl Chloride'}) 3\n",
      "frozenset({'Sodium Sulfate', 'Dichloromethane', 'ANPP', 'Aniline'}) 3\n",
      "frozenset({'Sodium Sulfate', 'Dichloromethane', 'Propionyl Chloride', 'ANPP'}) 3\n",
      "frozenset({'NPP', 'Dichloromethane', 'ANPP', 'Propionyl Chloride'}) 3\n",
      "frozenset({'NPP', 'Propionyl Chloride', 'Aniline', '4-piperidone Hydrochloride'}) 3\n",
      "frozenset({'Dichloromethane', 'Propionyl Chloride', 'Aniline', '4-piperidone Hydrochloride'}) 3\n",
      "frozenset({'Sodium Sulfate', 'Propionyl Chloride', 'ANPP', 'Aniline'}) 3\n",
      "frozenset({'NPP', 'ANPP', 'Propionyl Chloride', 'Fentanyl Hydrochloride'}) 3\n",
      "frozenset({'Sodium Sulfate', 'Dichloromethane', 'Propionyl Chloride', '4-piperidone Hydrochloride'}) 3\n",
      "frozenset({'NPP', 'Dichloromethane', 'Propionyl Chloride', '4-piperidone Hydrochloride'}) 3\n",
      "frozenset({'NPP', 'Dichloromethane', 'Aniline', '4-piperidone Hydrochloride'}) 3\n",
      "frozenset({'Dichloromethane', 'ANPP', 'Propionyl Chloride', 'Aniline'}) 3\n",
      "frozenset({'NPP', 'Sodium Sulfate', 'Dichloromethane', 'ANPP'}) 3\n",
      "frozenset({'NPP', 'Dichloromethane', 'Propionyl Chloride', 'Aniline'}) 3\n",
      "frozenset({'ANPP', 'Propionyl Chloride', 'Aniline', '4-piperidone Hydrochloride'}) 3\n",
      "frozenset({'NPP', 'Sodium Sulfate', 'Dichloromethane', 'Propionyl Chloride', 'Aniline'}) 3\n",
      "frozenset({'4-piperidone Hydrochloride', 'Sodium Sulfate', 'Dichloromethane', 'Propionyl Chloride', 'Aniline'}) 3\n",
      "frozenset({'NPP', 'ANPP', 'Propionyl Chloride', 'Aniline', 'Fentanyl Hydrochloride'}) 3\n",
      "frozenset({'ANPP', 'Sodium Sulfate', 'Dichloromethane', 'Propionyl Chloride', 'Aniline'}) 3\n",
      "frozenset({'NPP', '4-piperidone Hydrochloride', 'Sodium Sulfate', 'Propionyl Chloride', 'Aniline'}) 3\n",
      "frozenset({'NPP', '4-piperidone Hydrochloride', 'Sodium Sulfate', 'Dichloromethane', 'Aniline'}) 3\n",
      "frozenset({'NPP', 'ANPP', 'Sodium Sulfate', 'Dichloromethane', 'Propionyl Chloride'}) 3\n",
      "frozenset({'NPP', 'ANPP', '4-piperidone Hydrochloride', 'Dichloromethane', 'Aniline'}) 3\n",
      "frozenset({'NPP', '4-piperidone Hydrochloride', 'Sodium Sulfate', 'Dichloromethane', 'Propionyl Chloride'}) 3\n",
      "frozenset({'NPP', '4-piperidone Hydrochloride', 'Dichloromethane', 'Propionyl Chloride', 'Aniline'}) 3\n",
      "frozenset({'NPP', 'ANPP', 'Dichloromethane', 'Propionyl Chloride', 'Aniline'}) 3\n",
      "frozenset({'ANPP', '4-piperidone Hydrochloride', 'Dichloromethane', 'Propionyl Chloride', 'Aniline'}) 3\n",
      "frozenset({'NPP', 'ANPP', 'Sodium Sulfate', 'Dichloromethane', 'Aniline'}) 3\n",
      "frozenset({'NPP', 'ANPP', 'Sodium Sulfate', 'Propionyl Chloride', 'Aniline'}) 3\n",
      "frozenset({'ANPP', '4-piperidone Hydrochloride', 'Sodium Sulfate', 'Dichloromethane', 'Propionyl Chloride'}) 3\n",
      "frozenset({'ANPP', '4-piperidone Hydrochloride', 'Sodium Sulfate', 'Dichloromethane', 'Aniline'}) 3\n",
      "frozenset({'NPP', 'ANPP', '4-piperidone Hydrochloride', 'Sodium Sulfate', 'Dichloromethane'}) 3\n",
      "frozenset({'NPP', 'ANPP', '4-piperidone Hydrochloride', 'Sodium Sulfate', 'Propionyl Chloride'}) 3\n",
      "frozenset({'NPP', 'ANPP', '4-piperidone Hydrochloride', 'Sodium Sulfate', 'Aniline'}) 3\n",
      "frozenset({'NPP', 'ANPP', '4-piperidone Hydrochloride', 'Propionyl Chloride', 'Aniline'}) 3\n",
      "frozenset({'ANPP', '4-piperidone Hydrochloride', 'Sodium Sulfate', 'Propionyl Chloride', 'Aniline'}) 3\n",
      "frozenset({'NPP', 'ANPP', '4-piperidone Hydrochloride', 'Dichloromethane', 'Propionyl Chloride'}) 3\n",
      "frozenset({'ANPP', '4-piperidone Hydrochloride', 'Sodium Sulfate', 'Dichloromethane', 'Propionyl Chloride', 'Aniline'}) 3\n",
      "frozenset({'NPP', 'ANPP', '4-piperidone Hydrochloride', 'Sodium Sulfate', 'Dichloromethane', 'Propionyl Chloride'}) 3\n",
      "frozenset({'NPP', 'ANPP', 'Sodium Sulfate', 'Dichloromethane', 'Propionyl Chloride', 'Aniline'}) 3\n",
      "frozenset({'NPP', 'ANPP', '4-piperidone Hydrochloride', 'Sodium Sulfate', 'Dichloromethane', 'Aniline'}) 3\n",
      "frozenset({'NPP', 'ANPP', '4-piperidone Hydrochloride', 'Sodium Sulfate', 'Propionyl Chloride', 'Aniline'}) 3\n",
      "frozenset({'NPP', 'ANPP', '4-piperidone Hydrochloride', 'Dichloromethane', 'Propionyl Chloride', 'Aniline'}) 3\n",
      "frozenset({'NPP', '4-piperidone Hydrochloride', 'Sodium Sulfate', 'Dichloromethane', 'Propionyl Chloride', 'Aniline'}) 3\n",
      "frozenset({'NPP', 'ANPP', '4-piperidone Hydrochloride', 'Sodium Sulfate', 'Dichloromethane', 'Propionyl Chloride', 'Aniline'}) 3\n"
     ]
    }
   ],
   "source": [
    "from itertools import combinations\n",
    "\n",
    "def mine_frequent_itemsets(transactions, min_support):\n",
    "    n = len(transactions)\n",
    "    itemsets = []\n",
    "    items = sorted(set.union(*transactions))  # all unique ingredients\n",
    "    transactions = list(map(set, transactions))\n",
    "\n",
    "    # loop for k = 1 ... up to size of largest transaction\n",
    "    k = 1\n",
    "    current_sets = [{i} for i in items]\n",
    "\n",
    "    while current_sets:\n",
    "        freq_sets = []\n",
    "        for s in current_sets:\n",
    "            support = sum(1 for t in transactions if s.issubset(t))\n",
    "            if support >= min_support:\n",
    "                freq_sets.append((frozenset(s), support))\n",
    "                itemsets.append((frozenset(s), support))\n",
    "\n",
    "        # generate candidates for next level\n",
    "        next_sets = set()\n",
    "        for a, b in combinations(freq_sets, 2):\n",
    "            union = a[0] | b[0]\n",
    "            if len(union) == k+1:\n",
    "                next_sets.add(union)\n",
    "        current_sets = list(next_sets)\n",
    "        k += 1\n",
    "\n",
    "    return itemsets\n",
    "\n",
    "frequent_itemsets = mine_frequent_itemsets(ingredient_sets, min_support=3)\n",
    "for s, sup in frequent_itemsets:\n",
    "    print(s, sup)\n"
   ]
  },
  {
   "cell_type": "code",
   "execution_count": 2,
   "id": "3f792974",
   "metadata": {},
   "outputs": [
    {
     "ename": "NameError",
     "evalue": "name 'frequent_itemsets' is not defined",
     "output_type": "error",
     "traceback": [
      "\u001b[1;31m---------------------------------------------------------------------------\u001b[0m",
      "\u001b[1;31mNameError\u001b[0m                                 Traceback (most recent call last)",
      "Cell \u001b[1;32mIn[2], line 15\u001b[0m\n\u001b[0;32m     12\u001b[0m             maximal\u001b[38;5;241m.\u001b[39mappend((s, sup))\n\u001b[0;32m     13\u001b[0m     \u001b[38;5;28;01mreturn\u001b[39;00m closed, maximal\n\u001b[1;32m---> 15\u001b[0m closed_sets, maximal_sets \u001b[38;5;241m=\u001b[39m get_closed_and_maximal(frequent_itemsets)\n\u001b[0;32m     17\u001b[0m \u001b[38;5;28mprint\u001b[39m(\u001b[38;5;124m\"\u001b[39m\u001b[38;5;130;01m\\n\u001b[39;00m\u001b[38;5;124mClosed sets:\u001b[39m\u001b[38;5;124m\"\u001b[39m)\n\u001b[0;32m     18\u001b[0m \u001b[38;5;28;01mfor\u001b[39;00m s, sup \u001b[38;5;129;01min\u001b[39;00m closed_sets:\n",
      "\u001b[1;31mNameError\u001b[0m: name 'frequent_itemsets' is not defined"
     ]
    }
   ],
   "source": [
    "def get_closed_and_maximal(itemsets):\n",
    "    closed = []\n",
    "    maximal = []\n",
    "    for s, sup in itemsets:\n",
    "        # Find supersets of s\n",
    "        supersets = [(ss, ss_sup) for ss, ss_sup in itemsets if s < ss]\n",
    "        # Closed check\n",
    "        if not any(ss_sup == sup for ss, ss_sup in supersets):\n",
    "            closed.append((s, sup))\n",
    "        # Maximal check\n",
    "        if not supersets:\n",
    "            maximal.append((s, sup))\n",
    "    return closed, maximal\n",
    "\n",
    "closed_sets, maximal_sets = get_closed_and_maximal(frequent_itemsets)\n",
    "\n",
    "print(\"\\nClosed sets:\")\n",
    "for s, sup in closed_sets:\n",
    "    print(s, sup)\n",
    "\n",
    "print(\"\\nMaximal sets:\")\n",
    "for s, sup in maximal_sets:\n",
    "    print(s, sup)\n"
   ]
  },
  {
   "cell_type": "code",
   "execution_count": 3,
   "id": "cb53ff11",
   "metadata": {},
   "outputs": [
    {
     "ename": "NameError",
     "evalue": "name 'appearance' is not defined",
     "output_type": "error",
     "traceback": [
      "\u001b[1;31m---------------------------------------------------------------------------\u001b[0m",
      "\u001b[1;31mNameError\u001b[0m                                 Traceback (most recent call last)",
      "Cell \u001b[1;32mIn[3], line 11\u001b[0m\n\u001b[0;32m      9\u001b[0m \u001b[38;5;28;01mfor\u001b[39;00m ind_list \u001b[38;5;129;01min\u001b[39;00m [jensen, zee, jonczyk, optim, sigfried, gupta]:\n\u001b[0;32m     10\u001b[0m     \u001b[38;5;28;01mfor\u001b[39;00m node_pair \u001b[38;5;129;01min\u001b[39;00m itertools\u001b[38;5;241m.\u001b[39mcombinations(\u001b[38;5;28mset\u001b[39m(ind_list), \u001b[38;5;241m2\u001b[39m):\n\u001b[1;32m---> 11\u001b[0m         pair_lift[\u001b[38;5;28mfrozenset\u001b[39m(node_pair)]\u001b[38;5;241m=\u001b[39m(pair_appearance[\u001b[38;5;28mfrozenset\u001b[39m(node_pair)]\u001b[38;5;241m*\u001b[39m\u001b[38;5;241m6\u001b[39m)\u001b[38;5;241m/\u001b[39m((appearance[node_pair[\u001b[38;5;241m0\u001b[39m]]\u001b[38;5;241m*\u001b[39mappearance[node_pair[\u001b[38;5;241m1\u001b[39m]]))\n\u001b[0;32m     12\u001b[0m \u001b[38;5;28;01mimport\u001b[39;00m \u001b[38;5;21;01mheapq\u001b[39;00m\n\u001b[0;32m     13\u001b[0m top5 \u001b[38;5;241m=\u001b[39m heapq\u001b[38;5;241m.\u001b[39mnlargest(\u001b[38;5;241m25\u001b[39m, pair_appearance\u001b[38;5;241m.\u001b[39mitems(), key\u001b[38;5;241m=\u001b[39m\u001b[38;5;28;01mlambda\u001b[39;00m x: x[\u001b[38;5;241m1\u001b[39m])\n",
      "\u001b[1;31mNameError\u001b[0m: name 'appearance' is not defined"
     ]
    }
   ],
   "source": [
    "import itertools\n",
    "from collections import Counter\n",
    "\n",
    "pair_appearance = Counter()\n",
    "pair_lift={}\n",
    "for ind_list in [jensen, zee, jonczyk, optim, sigfried, gupta]:\n",
    "    for node_pair in itertools.combinations(set(ind_list), 2):\n",
    "        pair_appearance[frozenset(node_pair)]+=1 \n",
    "for ind_list in [jensen, zee, jonczyk, optim, sigfried, gupta]:\n",
    "    for node_pair in itertools.combinations(set(ind_list), 2):\n",
    "        pair_lift[frozenset(node_pair)]=(pair_appearance[frozenset(node_pair)]*6)/((appearance[node_pair[0]]*appearance[node_pair[1]]))\n",
    "import heapq\n",
    "top5 = heapq.nlargest(25, pair_appearance.items(), key=lambda x: x[1])\n",
    "print(top5)\n",
    "for i in top5:\n",
    "    print(i,pair_lift[i[0]])\n"
   ]
  },
  {
   "cell_type": "code",
   "execution_count": 83,
   "id": "52c162bf",
   "metadata": {},
   "outputs": [
    {
     "name": "stdout",
     "output_type": "stream",
     "text": [
      "[(frozenset({'NPP', 'ANPP', 'Propionyl Chloride'}), 4), (frozenset({'NPP', 'ANPP', 'Aniline'}), 4), (frozenset({'NPP', 'Propionyl Chloride', 'Aniline'}), 4), (frozenset({'ANPP', 'Propionyl Chloride', 'Aniline'}), 4), (frozenset({'NPP', 'Fentanyl Hydrochloride', 'ANPP'}), 3), (frozenset({'NPP', 'Fentanyl Hydrochloride', 'Propionyl Chloride'}), 3), (frozenset({'NPP', 'Fentanyl Hydrochloride', 'Aniline'}), 3), (frozenset({'Fentanyl Hydrochloride', 'ANPP', 'Propionyl Chloride'}), 3), (frozenset({'Fentanyl Hydrochloride', 'ANPP', 'Aniline'}), 3), (frozenset({'Fentanyl Hydrochloride', 'Propionyl Chloride', 'Aniline'}), 3), (frozenset({'NPP', '4-piperidone Hydrochloride', 'ANPP'}), 3), (frozenset({'NPP', 'Sodium Sulfate', 'ANPP'}), 3), (frozenset({'NPP', 'Dichloromethane', 'ANPP'}), 3), (frozenset({'NPP', 'Sodium Sulfate', '4-piperidone Hydrochloride'}), 3), (frozenset({'NPP', 'Dichloromethane', '4-piperidone Hydrochloride'}), 3), (frozenset({'NPP', '4-piperidone Hydrochloride', 'Aniline'}), 3), (frozenset({'NPP', '4-piperidone Hydrochloride', 'Propionyl Chloride'}), 3), (frozenset({'NPP', 'Sodium Sulfate', 'Dichloromethane'}), 3), (frozenset({'NPP', 'Sodium Sulfate', 'Aniline'}), 3), (frozenset({'NPP', 'Sodium Sulfate', 'Propionyl Chloride'}), 3), (frozenset({'NPP', 'Dichloromethane', 'Aniline'}), 3), (frozenset({'NPP', 'Dichloromethane', 'Propionyl Chloride'}), 3), (frozenset({'4-piperidone Hydrochloride', 'Sodium Sulfate', 'ANPP'}), 3), (frozenset({'4-piperidone Hydrochloride', 'Dichloromethane', 'ANPP'}), 3), (frozenset({'4-piperidone Hydrochloride', 'ANPP', 'Aniline'}), 3)]\n",
      "(frozenset({'NPP', 'ANPP', 'Propionyl Chloride'}), 4)\n",
      "1.8\n",
      "(frozenset({'NPP', 'ANPP', 'Aniline'}), 4)\n",
      "1.44\n",
      "(frozenset({'NPP', 'Propionyl Chloride', 'Aniline'}), 4)\n",
      "1.44\n",
      "(frozenset({'ANPP', 'Propionyl Chloride', 'Aniline'}), 4)\n",
      "1.8\n",
      "(frozenset({'NPP', 'Fentanyl Hydrochloride', 'ANPP'}), 3)\n",
      "1.8\n",
      "(frozenset({'NPP', 'Fentanyl Hydrochloride', 'Propionyl Chloride'}), 3)\n",
      "1.8\n",
      "(frozenset({'NPP', 'Fentanyl Hydrochloride', 'Aniline'}), 3)\n",
      "1.44\n",
      "(frozenset({'Fentanyl Hydrochloride', 'ANPP', 'Propionyl Chloride'}), 3)\n",
      "2.25\n",
      "(frozenset({'Fentanyl Hydrochloride', 'ANPP', 'Aniline'}), 3)\n",
      "1.8\n",
      "(frozenset({'Fentanyl Hydrochloride', 'Propionyl Chloride', 'Aniline'}), 3)\n",
      "1.8\n",
      "(frozenset({'NPP', '4-piperidone Hydrochloride', 'ANPP'}), 3)\n",
      "1.8\n",
      "(frozenset({'NPP', 'Sodium Sulfate', 'ANPP'}), 3)\n",
      "1.35\n",
      "(frozenset({'NPP', 'Dichloromethane', 'ANPP'}), 3)\n",
      "1.8\n",
      "(frozenset({'NPP', 'Sodium Sulfate', '4-piperidone Hydrochloride'}), 3)\n",
      "1.8\n",
      "(frozenset({'NPP', 'Dichloromethane', '4-piperidone Hydrochloride'}), 3)\n",
      "2.4\n",
      "(frozenset({'NPP', '4-piperidone Hydrochloride', 'Aniline'}), 3)\n",
      "1.44\n",
      "(frozenset({'NPP', '4-piperidone Hydrochloride', 'Propionyl Chloride'}), 3)\n",
      "1.8\n",
      "(frozenset({'NPP', 'Sodium Sulfate', 'Dichloromethane'}), 3)\n",
      "1.8\n",
      "(frozenset({'NPP', 'Sodium Sulfate', 'Aniline'}), 3)\n",
      "1.08\n",
      "(frozenset({'NPP', 'Sodium Sulfate', 'Propionyl Chloride'}), 3)\n",
      "1.35\n",
      "(frozenset({'NPP', 'Dichloromethane', 'Aniline'}), 3)\n",
      "1.44\n",
      "(frozenset({'NPP', 'Dichloromethane', 'Propionyl Chloride'}), 3)\n",
      "1.8\n",
      "(frozenset({'4-piperidone Hydrochloride', 'Sodium Sulfate', 'ANPP'}), 3)\n",
      "2.25\n",
      "(frozenset({'4-piperidone Hydrochloride', 'Dichloromethane', 'ANPP'}), 3)\n",
      "3.0\n",
      "(frozenset({'4-piperidone Hydrochloride', 'ANPP', 'Aniline'}), 3)\n",
      "1.8\n"
     ]
    }
   ],
   "source": [
    "import itertools\n",
    "from collections import Counter\n",
    "\n",
    "triplet_appearance = Counter()\n",
    "triplet_lift={}\n",
    "for ind_list in [jensen, zee, jonczyk, optim, sigfried, gupta]:\n",
    "    for node_triplet in itertools.combinations(set(ind_list), 3):\n",
    "        triplet_appearance[frozenset(node_triplet)]+=1 \n",
    "for ind_list in [jensen, zee, jonczyk, optim, sigfried, gupta]:\n",
    "    for node_triplet in itertools.combinations(set(ind_list), 3):\n",
    "        triplet_lift[frozenset(node_triplet)]=(triplet_appearance[frozenset(node_triplet)]*36)/(appearance[node_triplet[0]]*appearance[node_triplet[1]]*(appearance[node_triplet[2]]))\n",
    "import heapq\n",
    "top5 = heapq.nlargest(25, triplet_appearance.items(), key=lambda x: x[1])\n",
    "print(top5)\n",
    "for i in top5:\n",
    "    print(i)\n",
    "    print(triplet_lift[i[0]])"
   ]
  },
  {
   "cell_type": "code",
   "execution_count": 84,
   "id": "35cd4f36",
   "metadata": {},
   "outputs": [
    {
     "name": "stdout",
     "output_type": "stream",
     "text": [
      "[(frozenset({'NPP', 'ANPP', 'Propionyl Chloride', 'Aniline'}), 4), (frozenset({'NPP', 'Fentanyl Hydrochloride', 'ANPP', 'Propionyl Chloride'}), 3), (frozenset({'NPP', 'Fentanyl Hydrochloride', 'ANPP', 'Aniline'}), 3), (frozenset({'NPP', 'Fentanyl Hydrochloride', 'Propionyl Chloride', 'Aniline'}), 3), (frozenset({'Fentanyl Hydrochloride', 'ANPP', 'Propionyl Chloride', 'Aniline'}), 3), (frozenset({'NPP', 'Sodium Sulfate', '4-piperidone Hydrochloride', 'ANPP'}), 3), (frozenset({'NPP', 'Dichloromethane', '4-piperidone Hydrochloride', 'ANPP'}), 3), (frozenset({'NPP', '4-piperidone Hydrochloride', 'ANPP', 'Aniline'}), 3), (frozenset({'NPP', '4-piperidone Hydrochloride', 'ANPP', 'Propionyl Chloride'}), 3), (frozenset({'NPP', 'Sodium Sulfate', 'Dichloromethane', 'ANPP'}), 3), (frozenset({'NPP', 'Sodium Sulfate', 'ANPP', 'Aniline'}), 3), (frozenset({'NPP', 'Sodium Sulfate', 'ANPP', 'Propionyl Chloride'}), 3), (frozenset({'NPP', 'Dichloromethane', 'ANPP', 'Aniline'}), 3), (frozenset({'NPP', 'Dichloromethane', 'ANPP', 'Propionyl Chloride'}), 3), (frozenset({'NPP', 'Sodium Sulfate', '4-piperidone Hydrochloride', 'Dichloromethane'}), 3), (frozenset({'NPP', 'Sodium Sulfate', '4-piperidone Hydrochloride', 'Aniline'}), 3), (frozenset({'NPP', 'Sodium Sulfate', '4-piperidone Hydrochloride', 'Propionyl Chloride'}), 3), (frozenset({'NPP', 'Dichloromethane', '4-piperidone Hydrochloride', 'Aniline'}), 3), (frozenset({'NPP', 'Dichloromethane', '4-piperidone Hydrochloride', 'Propionyl Chloride'}), 3), (frozenset({'NPP', '4-piperidone Hydrochloride', 'Propionyl Chloride', 'Aniline'}), 3), (frozenset({'NPP', 'Sodium Sulfate', 'Dichloromethane', 'Aniline'}), 3), (frozenset({'NPP', 'Sodium Sulfate', 'Dichloromethane', 'Propionyl Chloride'}), 3), (frozenset({'NPP', 'Sodium Sulfate', 'Propionyl Chloride', 'Aniline'}), 3), (frozenset({'NPP', 'Dichloromethane', 'Propionyl Chloride', 'Aniline'}), 3), (frozenset({'4-piperidone Hydrochloride', 'Sodium Sulfate', 'Dichloromethane', 'ANPP'}), 3)]\n",
      "(frozenset({'NPP', 'ANPP', 'Propionyl Chloride', 'Aniline'}), 4)\n",
      "8.64\n",
      "(frozenset({'NPP', 'Fentanyl Hydrochloride', 'ANPP', 'Propionyl Chloride'}), 3)\n",
      "8.1\n",
      "(frozenset({'NPP', 'Fentanyl Hydrochloride', 'ANPP', 'Aniline'}), 3)\n",
      "6.48\n",
      "(frozenset({'NPP', 'Fentanyl Hydrochloride', 'Propionyl Chloride', 'Aniline'}), 3)\n",
      "6.48\n",
      "(frozenset({'Fentanyl Hydrochloride', 'ANPP', 'Propionyl Chloride', 'Aniline'}), 3)\n",
      "8.1\n",
      "(frozenset({'NPP', 'Sodium Sulfate', '4-piperidone Hydrochloride', 'ANPP'}), 3)\n",
      "10.8\n",
      "(frozenset({'NPP', 'Dichloromethane', '4-piperidone Hydrochloride', 'ANPP'}), 3)\n",
      "14.4\n",
      "(frozenset({'NPP', '4-piperidone Hydrochloride', 'ANPP', 'Aniline'}), 3)\n",
      "8.64\n",
      "(frozenset({'NPP', '4-piperidone Hydrochloride', 'ANPP', 'Propionyl Chloride'}), 3)\n",
      "10.8\n",
      "(frozenset({'NPP', 'Sodium Sulfate', 'Dichloromethane', 'ANPP'}), 3)\n",
      "10.8\n",
      "(frozenset({'NPP', 'Sodium Sulfate', 'ANPP', 'Aniline'}), 3)\n",
      "6.48\n",
      "(frozenset({'NPP', 'Sodium Sulfate', 'ANPP', 'Propionyl Chloride'}), 3)\n",
      "8.1\n",
      "(frozenset({'NPP', 'Dichloromethane', 'ANPP', 'Aniline'}), 3)\n",
      "8.64\n",
      "(frozenset({'NPP', 'Dichloromethane', 'ANPP', 'Propionyl Chloride'}), 3)\n",
      "10.8\n",
      "(frozenset({'NPP', 'Sodium Sulfate', '4-piperidone Hydrochloride', 'Dichloromethane'}), 3)\n",
      "10.8\n",
      "(frozenset({'NPP', 'Sodium Sulfate', '4-piperidone Hydrochloride', 'Aniline'}), 3)\n",
      "10.8\n",
      "(frozenset({'NPP', 'Sodium Sulfate', '4-piperidone Hydrochloride', 'Propionyl Chloride'}), 3)\n",
      "10.8\n",
      "(frozenset({'NPP', 'Dichloromethane', '4-piperidone Hydrochloride', 'Aniline'}), 3)\n",
      "14.4\n",
      "(frozenset({'NPP', 'Dichloromethane', '4-piperidone Hydrochloride', 'Propionyl Chloride'}), 3)\n",
      "14.4\n",
      "(frozenset({'NPP', '4-piperidone Hydrochloride', 'Propionyl Chloride', 'Aniline'}), 3)\n",
      "8.64\n",
      "(frozenset({'NPP', 'Sodium Sulfate', 'Dichloromethane', 'Aniline'}), 3)\n",
      "10.8\n",
      "(frozenset({'NPP', 'Sodium Sulfate', 'Dichloromethane', 'Propionyl Chloride'}), 3)\n",
      "10.8\n",
      "(frozenset({'NPP', 'Sodium Sulfate', 'Propionyl Chloride', 'Aniline'}), 3)\n",
      "6.48\n",
      "(frozenset({'NPP', 'Dichloromethane', 'Propionyl Chloride', 'Aniline'}), 3)\n",
      "8.64\n",
      "(frozenset({'4-piperidone Hydrochloride', 'Sodium Sulfate', 'Dichloromethane', 'ANPP'}), 3)\n",
      "18.0\n"
     ]
    }
   ],
   "source": [
    "import itertools\n",
    "from collections import Counter\n",
    "\n",
    "quartet_appearance = Counter()\n",
    "quartet_lift={}\n",
    "for ind_list in [jensen, zee, jonczyk, optim, sigfried, gupta]:\n",
    "    for node_quartet in itertools.combinations(set(ind_list), 4):\n",
    "        quartet_appearance[frozenset(node_quartet)]+=1 \n",
    "for ind_list in [jensen, zee, jonczyk, optim, sigfried, gupta]:\n",
    "    for node_quartet in itertools.combinations(set(ind_list), 4):\n",
    "        quartet_lift[frozenset(node_quartet)]=(quartet_appearance[frozenset(node_quartet)]*216)/(appearance[node_quartet[0]]*appearance[node_quartet[1]]*(appearance[node_quartet[2]]))\n",
    "import heapq\n",
    "top5 = heapq.nlargest(25, quartet_appearance.items(), key=lambda x: x[1])\n",
    "print(top5)\n",
    "for i in top5:\n",
    "    print(i)\n",
    "    print(quartet_lift[i[0]])"
   ]
  },
  {
   "cell_type": "code",
   "execution_count": 85,
   "id": "91fa8ca3",
   "metadata": {},
   "outputs": [
    {
     "name": "stdout",
     "output_type": "stream",
     "text": [
      "[(frozenset({'NPP', 'ANPP', 'Propionyl Chloride', 'Aniline', 'Fentanyl Hydrochloride'}), 3), (frozenset({'NPP', 'ANPP', '4-piperidone Hydrochloride', 'Sodium Sulfate', 'Dichloromethane'}), 3), (frozenset({'NPP', 'ANPP', '4-piperidone Hydrochloride', 'Sodium Sulfate', 'Aniline'}), 3), (frozenset({'NPP', 'ANPP', '4-piperidone Hydrochloride', 'Sodium Sulfate', 'Propionyl Chloride'}), 3), (frozenset({'NPP', 'ANPP', '4-piperidone Hydrochloride', 'Dichloromethane', 'Aniline'}), 3), (frozenset({'NPP', 'ANPP', '4-piperidone Hydrochloride', 'Dichloromethane', 'Propionyl Chloride'}), 3), (frozenset({'NPP', 'ANPP', '4-piperidone Hydrochloride', 'Propionyl Chloride', 'Aniline'}), 3), (frozenset({'NPP', 'ANPP', 'Sodium Sulfate', 'Dichloromethane', 'Aniline'}), 3), (frozenset({'NPP', 'ANPP', 'Sodium Sulfate', 'Dichloromethane', 'Propionyl Chloride'}), 3), (frozenset({'NPP', 'ANPP', 'Sodium Sulfate', 'Propionyl Chloride', 'Aniline'}), 3), (frozenset({'NPP', 'ANPP', 'Dichloromethane', 'Propionyl Chloride', 'Aniline'}), 3), (frozenset({'NPP', '4-piperidone Hydrochloride', 'Sodium Sulfate', 'Dichloromethane', 'Aniline'}), 3), (frozenset({'NPP', '4-piperidone Hydrochloride', 'Sodium Sulfate', 'Dichloromethane', 'Propionyl Chloride'}), 3), (frozenset({'NPP', '4-piperidone Hydrochloride', 'Sodium Sulfate', 'Propionyl Chloride', 'Aniline'}), 3), (frozenset({'NPP', '4-piperidone Hydrochloride', 'Dichloromethane', 'Propionyl Chloride', 'Aniline'}), 3), (frozenset({'NPP', 'Sodium Sulfate', 'Dichloromethane', 'Propionyl Chloride', 'Aniline'}), 3), (frozenset({'ANPP', '4-piperidone Hydrochloride', 'Sodium Sulfate', 'Dichloromethane', 'Aniline'}), 3), (frozenset({'ANPP', '4-piperidone Hydrochloride', 'Sodium Sulfate', 'Dichloromethane', 'Propionyl Chloride'}), 3), (frozenset({'ANPP', '4-piperidone Hydrochloride', 'Sodium Sulfate', 'Propionyl Chloride', 'Aniline'}), 3), (frozenset({'ANPP', '4-piperidone Hydrochloride', 'Dichloromethane', 'Propionyl Chloride', 'Aniline'}), 3), (frozenset({'ANPP', 'Sodium Sulfate', 'Dichloromethane', 'Propionyl Chloride', 'Aniline'}), 3), (frozenset({'4-piperidone Hydrochloride', 'Sodium Sulfate', 'Dichloromethane', 'Propionyl Chloride', 'Aniline'}), 3), (frozenset({'NPP', 'Hydrogen', 'Toluene', 'P-toluenesulfonic Acid', 'Aniline'}), 2), (frozenset({'NPP', 'Hydrogen', 'Toluene', 'P-toluenesulfonic Acid', 'Lithium Aluminium Hydride'}), 2), (frozenset({'NPP', 'Hydrogen', 'Toluene', 'Aniline', 'Lithium Aluminium Hydride'}), 2)]\n",
      "(frozenset({'NPP', 'ANPP', 'Propionyl Chloride', 'Aniline', 'Fentanyl Hydrochloride'}), 3)\n",
      "38.88\n",
      "(frozenset({'NPP', 'ANPP', '4-piperidone Hydrochloride', 'Sodium Sulfate', 'Dichloromethane'}), 3)\n",
      "64.8\n",
      "(frozenset({'NPP', 'ANPP', '4-piperidone Hydrochloride', 'Sodium Sulfate', 'Aniline'}), 3)\n",
      "64.8\n",
      "(frozenset({'NPP', 'ANPP', '4-piperidone Hydrochloride', 'Sodium Sulfate', 'Propionyl Chloride'}), 3)\n",
      "64.8\n",
      "(frozenset({'NPP', 'ANPP', '4-piperidone Hydrochloride', 'Dichloromethane', 'Aniline'}), 3)\n",
      "86.4\n",
      "(frozenset({'NPP', 'ANPP', '4-piperidone Hydrochloride', 'Dichloromethane', 'Propionyl Chloride'}), 3)\n",
      "86.4\n",
      "(frozenset({'NPP', 'ANPP', '4-piperidone Hydrochloride', 'Propionyl Chloride', 'Aniline'}), 3)\n",
      "51.84\n",
      "(frozenset({'NPP', 'ANPP', 'Sodium Sulfate', 'Dichloromethane', 'Aniline'}), 3)\n",
      "64.8\n",
      "(frozenset({'NPP', 'ANPP', 'Sodium Sulfate', 'Dichloromethane', 'Propionyl Chloride'}), 3)\n",
      "64.8\n",
      "(frozenset({'NPP', 'ANPP', 'Sodium Sulfate', 'Propionyl Chloride', 'Aniline'}), 3)\n",
      "38.88\n",
      "(frozenset({'NPP', 'ANPP', 'Dichloromethane', 'Propionyl Chloride', 'Aniline'}), 3)\n",
      "51.84\n",
      "(frozenset({'NPP', '4-piperidone Hydrochloride', 'Sodium Sulfate', 'Dichloromethane', 'Aniline'}), 3)\n",
      "64.8\n",
      "(frozenset({'NPP', '4-piperidone Hydrochloride', 'Sodium Sulfate', 'Dichloromethane', 'Propionyl Chloride'}), 3)\n",
      "64.8\n",
      "(frozenset({'NPP', '4-piperidone Hydrochloride', 'Sodium Sulfate', 'Propionyl Chloride', 'Aniline'}), 3)\n",
      "64.8\n",
      "(frozenset({'NPP', '4-piperidone Hydrochloride', 'Dichloromethane', 'Propionyl Chloride', 'Aniline'}), 3)\n",
      "86.4\n",
      "(frozenset({'NPP', 'Sodium Sulfate', 'Dichloromethane', 'Propionyl Chloride', 'Aniline'}), 3)\n",
      "64.8\n",
      "(frozenset({'ANPP', '4-piperidone Hydrochloride', 'Sodium Sulfate', 'Dichloromethane', 'Aniline'}), 3)\n",
      "108.0\n",
      "(frozenset({'ANPP', '4-piperidone Hydrochloride', 'Sodium Sulfate', 'Dichloromethane', 'Propionyl Chloride'}), 3)\n",
      "108.0\n",
      "(frozenset({'ANPP', '4-piperidone Hydrochloride', 'Sodium Sulfate', 'Propionyl Chloride', 'Aniline'}), 3)\n",
      "64.8\n",
      "(frozenset({'ANPP', '4-piperidone Hydrochloride', 'Dichloromethane', 'Propionyl Chloride', 'Aniline'}), 3)\n",
      "86.4\n",
      "(frozenset({'ANPP', 'Sodium Sulfate', 'Dichloromethane', 'Propionyl Chloride', 'Aniline'}), 3)\n",
      "64.8\n",
      "(frozenset({'4-piperidone Hydrochloride', 'Sodium Sulfate', 'Dichloromethane', 'Propionyl Chloride', 'Aniline'}), 3)\n",
      "108.0\n",
      "(frozenset({'NPP', 'Hydrogen', 'Toluene', 'P-toluenesulfonic Acid', 'Aniline'}), 2)\n",
      "57.6\n",
      "(frozenset({'NPP', 'Hydrogen', 'Toluene', 'P-toluenesulfonic Acid', 'Lithium Aluminium Hydride'}), 2)\n",
      "57.6\n",
      "(frozenset({'NPP', 'Hydrogen', 'Toluene', 'Aniline', 'Lithium Aluminium Hydride'}), 2)\n",
      "57.6\n"
     ]
    }
   ],
   "source": [
    "import itertools\n",
    "from collections import Counter\n",
    "\n",
    "quantet_appearance = Counter()\n",
    "quantet_lift={}\n",
    "for ind_list in [jensen, zee, jonczyk, optim, sigfried, gupta]:\n",
    "    for node_quantet in itertools.combinations(set(ind_list), 5):\n",
    "        quantet_appearance[frozenset(node_quantet)]+=1 \n",
    "for ind_list in [jensen, zee, jonczyk, optim, sigfried, gupta]:\n",
    "    for node_quantet in itertools.combinations(set(ind_list), 5):\n",
    "        quantet_lift[frozenset(node_quantet)]=(quantet_appearance[frozenset(node_quantet)]*216*6)/(appearance[node_quantet[0]]*appearance[node_quantet[1]]*(appearance[node_quantet[2]]))\n",
    "import heapq\n",
    "top5 = heapq.nlargest(25, quantet_appearance.items(), key=lambda x: x[1])\n",
    "print(top5)\n",
    "for i in top5:\n",
    "    print(i)\n",
    "    print(quantet_lift[i[0]])"
   ]
  },
  {
   "cell_type": "code",
   "execution_count": 86,
   "id": "c72f41a4",
   "metadata": {},
   "outputs": [
    {
     "name": "stdout",
     "output_type": "stream",
     "text": [
      "[(frozenset({'NPP', 'ANPP', '4-piperidone Hydrochloride', 'Sodium Sulfate', 'Dichloromethane', 'Propionyl Chloride', 'Aniline'}), 3), (frozenset({'NPP', 'ANPP', '4-piperidone Hydrochloride', 'Phenethyl Bromide', 'Sodium Sulfate', 'Dichloromethane', 'Aniline'}), 2), (frozenset({'NPP', 'ANPP', '4-piperidone Hydrochloride', 'Phenethyl Bromide', 'Sodium Sulfate', 'Dichloromethane', 'Propionyl Chloride'}), 2), (frozenset({'NPP', 'ANPP', '4-piperidone Hydrochloride', 'Phenethyl Bromide', 'Sodium Sulfate', 'Dichloromethane', 'Sodium Chloride'}), 2), (frozenset({'NPP', 'ANPP', '4-piperidone Hydrochloride', 'Phenethyl Bromide', 'Sodium Sulfate', 'Dichloromethane', 'Acetonitrile'}), 2), (frozenset({'NPP', 'ANPP', '4-piperidone Hydrochloride', 'Phenethyl Bromide', 'Sodium Sulfate', 'Propionyl Chloride', 'Aniline'}), 2), (frozenset({'NPP', 'ANPP', '4-piperidone Hydrochloride', 'Phenethyl Bromide', 'Sodium Sulfate', 'Aniline', 'Sodium Chloride'}), 2), (frozenset({'NPP', 'ANPP', '4-piperidone Hydrochloride', 'Phenethyl Bromide', 'Sodium Sulfate', 'Aniline', 'Acetonitrile'}), 2), (frozenset({'NPP', 'ANPP', '4-piperidone Hydrochloride', 'Phenethyl Bromide', 'Sodium Sulfate', 'Propionyl Chloride', 'Sodium Chloride'}), 2), (frozenset({'NPP', 'ANPP', '4-piperidone Hydrochloride', 'Phenethyl Bromide', 'Sodium Sulfate', 'Propionyl Chloride', 'Acetonitrile'}), 2), (frozenset({'NPP', 'ANPP', '4-piperidone Hydrochloride', 'Phenethyl Bromide', 'Sodium Sulfate', 'Sodium Chloride', 'Acetonitrile'}), 2), (frozenset({'NPP', 'ANPP', '4-piperidone Hydrochloride', 'Phenethyl Bromide', 'Dichloromethane', 'Propionyl Chloride', 'Aniline'}), 2), (frozenset({'NPP', 'ANPP', '4-piperidone Hydrochloride', 'Phenethyl Bromide', 'Dichloromethane', 'Aniline', 'Sodium Chloride'}), 2), (frozenset({'NPP', 'ANPP', '4-piperidone Hydrochloride', 'Phenethyl Bromide', 'Dichloromethane', 'Aniline', 'Acetonitrile'}), 2), (frozenset({'NPP', 'ANPP', '4-piperidone Hydrochloride', 'Phenethyl Bromide', 'Dichloromethane', 'Propionyl Chloride', 'Sodium Chloride'}), 2), (frozenset({'NPP', 'ANPP', '4-piperidone Hydrochloride', 'Phenethyl Bromide', 'Dichloromethane', 'Propionyl Chloride', 'Acetonitrile'}), 2), (frozenset({'NPP', 'ANPP', '4-piperidone Hydrochloride', 'Phenethyl Bromide', 'Dichloromethane', 'Sodium Chloride', 'Acetonitrile'}), 2), (frozenset({'NPP', 'ANPP', '4-piperidone Hydrochloride', 'Phenethyl Bromide', 'Propionyl Chloride', 'Aniline', 'Sodium Chloride'}), 2), (frozenset({'NPP', 'ANPP', '4-piperidone Hydrochloride', 'Phenethyl Bromide', 'Propionyl Chloride', 'Aniline', 'Acetonitrile'}), 2), (frozenset({'NPP', 'ANPP', '4-piperidone Hydrochloride', 'Phenethyl Bromide', 'Aniline', 'Sodium Chloride', 'Acetonitrile'}), 2), (frozenset({'NPP', 'ANPP', '4-piperidone Hydrochloride', 'Phenethyl Bromide', 'Propionyl Chloride', 'Sodium Chloride', 'Acetonitrile'}), 2), (frozenset({'NPP', 'ANPP', '4-piperidone Hydrochloride', 'Sodium Sulfate', 'Dichloromethane', 'Sodium Triacetoxyborohydride', 'Aniline'}), 2), (frozenset({'NPP', 'ANPP', '4-piperidone Hydrochloride', 'Sodium Sulfate', 'Dichloromethane', 'Sodium Triacetoxyborohydride', 'Propionyl Chloride'}), 2), (frozenset({'NPP', 'ANPP', '4-piperidone Hydrochloride', 'Sodium Sulfate', 'Dichloromethane', 'Sodium Triacetoxyborohydride', 'Acetic Acid'}), 2), (frozenset({'NPP', 'ANPP', '4-piperidone Hydrochloride', 'Sodium Sulfate', 'Dichloromethane', 'Aniline', 'Sodium Chloride'}), 2)]\n",
      "(frozenset({'NPP', 'ANPP', '4-piperidone Hydrochloride', 'Sodium Sulfate', 'Dichloromethane', 'Propionyl Chloride', 'Aniline'}), 3)\n",
      "2332.8\n",
      "(frozenset({'NPP', 'ANPP', '4-piperidone Hydrochloride', 'Phenethyl Bromide', 'Sodium Sulfate', 'Dichloromethane', 'Aniline'}), 2)\n",
      "1555.2\n",
      "(frozenset({'NPP', 'ANPP', '4-piperidone Hydrochloride', 'Phenethyl Bromide', 'Sodium Sulfate', 'Dichloromethane', 'Propionyl Chloride'}), 2)\n",
      "1555.2\n",
      "(frozenset({'NPP', 'ANPP', '4-piperidone Hydrochloride', 'Phenethyl Bromide', 'Sodium Sulfate', 'Dichloromethane', 'Sodium Chloride'}), 2)\n",
      "1555.2\n",
      "(frozenset({'NPP', 'ANPP', '4-piperidone Hydrochloride', 'Phenethyl Bromide', 'Sodium Sulfate', 'Dichloromethane', 'Acetonitrile'}), 2)\n",
      "3888.0\n",
      "(frozenset({'NPP', 'ANPP', '4-piperidone Hydrochloride', 'Phenethyl Bromide', 'Sodium Sulfate', 'Propionyl Chloride', 'Aniline'}), 2)\n",
      "1555.2\n",
      "(frozenset({'NPP', 'ANPP', '4-piperidone Hydrochloride', 'Phenethyl Bromide', 'Sodium Sulfate', 'Aniline', 'Sodium Chloride'}), 2)\n",
      "1555.2\n",
      "(frozenset({'NPP', 'ANPP', '4-piperidone Hydrochloride', 'Phenethyl Bromide', 'Sodium Sulfate', 'Aniline', 'Acetonitrile'}), 2)\n",
      "3888.0\n",
      "(frozenset({'NPP', 'ANPP', '4-piperidone Hydrochloride', 'Phenethyl Bromide', 'Sodium Sulfate', 'Propionyl Chloride', 'Sodium Chloride'}), 2)\n",
      "1555.2\n",
      "(frozenset({'NPP', 'ANPP', '4-piperidone Hydrochloride', 'Phenethyl Bromide', 'Sodium Sulfate', 'Propionyl Chloride', 'Acetonitrile'}), 2)\n",
      "3888.0\n",
      "(frozenset({'NPP', 'ANPP', '4-piperidone Hydrochloride', 'Phenethyl Bromide', 'Sodium Sulfate', 'Sodium Chloride', 'Acetonitrile'}), 2)\n",
      "3888.0\n",
      "(frozenset({'NPP', 'ANPP', '4-piperidone Hydrochloride', 'Phenethyl Bromide', 'Dichloromethane', 'Propionyl Chloride', 'Aniline'}), 2)\n",
      "2073.6\n",
      "(frozenset({'NPP', 'ANPP', '4-piperidone Hydrochloride', 'Phenethyl Bromide', 'Dichloromethane', 'Aniline', 'Sodium Chloride'}), 2)\n",
      "2073.6\n",
      "(frozenset({'NPP', 'ANPP', '4-piperidone Hydrochloride', 'Phenethyl Bromide', 'Dichloromethane', 'Aniline', 'Acetonitrile'}), 2)\n",
      "3110.4\n",
      "(frozenset({'NPP', 'ANPP', '4-piperidone Hydrochloride', 'Phenethyl Bromide', 'Dichloromethane', 'Propionyl Chloride', 'Sodium Chloride'}), 2)\n",
      "2073.6\n",
      "(frozenset({'NPP', 'ANPP', '4-piperidone Hydrochloride', 'Phenethyl Bromide', 'Dichloromethane', 'Propionyl Chloride', 'Acetonitrile'}), 2)\n",
      "3110.4\n",
      "(frozenset({'NPP', 'ANPP', '4-piperidone Hydrochloride', 'Phenethyl Bromide', 'Dichloromethane', 'Sodium Chloride', 'Acetonitrile'}), 2)\n",
      "3110.4\n",
      "(frozenset({'NPP', 'ANPP', '4-piperidone Hydrochloride', 'Phenethyl Bromide', 'Propionyl Chloride', 'Aniline', 'Sodium Chloride'}), 2)\n",
      "2073.6\n",
      "(frozenset({'NPP', 'ANPP', '4-piperidone Hydrochloride', 'Phenethyl Bromide', 'Propionyl Chloride', 'Aniline', 'Acetonitrile'}), 2)\n",
      "3110.4\n",
      "(frozenset({'NPP', 'ANPP', '4-piperidone Hydrochloride', 'Phenethyl Bromide', 'Aniline', 'Sodium Chloride', 'Acetonitrile'}), 2)\n",
      "3110.4\n",
      "(frozenset({'NPP', 'ANPP', '4-piperidone Hydrochloride', 'Phenethyl Bromide', 'Propionyl Chloride', 'Sodium Chloride', 'Acetonitrile'}), 2)\n",
      "3110.4\n",
      "(frozenset({'NPP', 'ANPP', '4-piperidone Hydrochloride', 'Sodium Sulfate', 'Dichloromethane', 'Sodium Triacetoxyborohydride', 'Aniline'}), 2)\n",
      "2332.8\n",
      "(frozenset({'NPP', 'ANPP', '4-piperidone Hydrochloride', 'Sodium Sulfate', 'Dichloromethane', 'Sodium Triacetoxyborohydride', 'Propionyl Chloride'}), 2)\n",
      "2332.8\n",
      "(frozenset({'NPP', 'ANPP', '4-piperidone Hydrochloride', 'Sodium Sulfate', 'Dichloromethane', 'Sodium Triacetoxyborohydride', 'Acetic Acid'}), 2)\n",
      "2332.8\n",
      "(frozenset({'NPP', 'ANPP', '4-piperidone Hydrochloride', 'Sodium Sulfate', 'Dichloromethane', 'Aniline', 'Sodium Chloride'}), 2)\n",
      "1555.2\n"
     ]
    }
   ],
   "source": [
    "import itertools\n",
    "from collections import Counter\n",
    "\n",
    "sectet_appearance = Counter()\n",
    "sectet_lift={}\n",
    "for ind_list in [jensen, zee, jonczyk, optim, sigfried, gupta]:\n",
    "    for node_sectet in itertools.combinations(set(ind_list), 7):\n",
    "        sectet_appearance[frozenset(node_sectet)]+=1 \n",
    "for ind_list in [jensen, zee, jonczyk, optim, sigfried, gupta]:\n",
    "    for node_sectet in itertools.combinations(set(ind_list), 7):\n",
    "        sectet_lift[frozenset(node_sectet)]=(sectet_appearance[frozenset(node_sectet)]*216*6*6*6)/(appearance[node_sectet[0]]*appearance[node_sectet[1]]*(appearance[node_sectet[2]]))\n",
    "import heapq\n",
    "top5 = heapq.nlargest(25, sectet_appearance.items(), key=lambda x: x[1])\n",
    "print(top5)\n",
    "for i in top5:\n",
    "    print(i)\n",
    "    print(sectet_lift[i[0]])"
   ]
  },
  {
   "cell_type": "code",
   "execution_count": 87,
   "id": "9fc43cd3",
   "metadata": {},
   "outputs": [
    {
     "name": "stdout",
     "output_type": "stream",
     "text": [
      "[(frozenset({'NPP', 'ANPP', '4-piperidone Hydrochloride', 'Sodium Sulfate', 'Dichloromethane', 'Aniline'}), 3), (frozenset({'NPP', 'ANPP', '4-piperidone Hydrochloride', 'Sodium Sulfate', 'Dichloromethane', 'Propionyl Chloride'}), 3), (frozenset({'NPP', 'ANPP', '4-piperidone Hydrochloride', 'Sodium Sulfate', 'Propionyl Chloride', 'Aniline'}), 3), (frozenset({'NPP', 'ANPP', '4-piperidone Hydrochloride', 'Dichloromethane', 'Propionyl Chloride', 'Aniline'}), 3), (frozenset({'NPP', 'ANPP', 'Sodium Sulfate', 'Dichloromethane', 'Propionyl Chloride', 'Aniline'}), 3), (frozenset({'NPP', '4-piperidone Hydrochloride', 'Sodium Sulfate', 'Dichloromethane', 'Propionyl Chloride', 'Aniline'}), 3), (frozenset({'ANPP', '4-piperidone Hydrochloride', 'Sodium Sulfate', 'Dichloromethane', 'Propionyl Chloride', 'Aniline'}), 3), (frozenset({'NPP', 'Hydrogen', 'Toluene', 'P-toluenesulfonic Acid', 'Aniline', 'Lithium Aluminium Hydride'}), 2), (frozenset({'NPP', 'ANPP', 'Sodium Borohydride', 'Propionyl Chloride', 'Aniline', 'Fentanyl Hydrochloride'}), 2), (frozenset({'NPP', 'ANPP', '4-piperidone Hydrochloride', 'Phenethyl Bromide', 'Sodium Sulfate', 'Dichloromethane'}), 2), (frozenset({'NPP', 'ANPP', '4-piperidone Hydrochloride', 'Phenethyl Bromide', 'Sodium Sulfate', 'Aniline'}), 2), (frozenset({'NPP', 'ANPP', '4-piperidone Hydrochloride', 'Phenethyl Bromide', 'Sodium Sulfate', 'Propionyl Chloride'}), 2), (frozenset({'NPP', 'ANPP', '4-piperidone Hydrochloride', 'Phenethyl Bromide', 'Sodium Sulfate', 'Sodium Chloride'}), 2), (frozenset({'NPP', 'ANPP', '4-piperidone Hydrochloride', 'Phenethyl Bromide', 'Sodium Sulfate', 'Acetonitrile'}), 2), (frozenset({'NPP', 'ANPP', '4-piperidone Hydrochloride', 'Phenethyl Bromide', 'Dichloromethane', 'Aniline'}), 2), (frozenset({'NPP', 'ANPP', '4-piperidone Hydrochloride', 'Phenethyl Bromide', 'Dichloromethane', 'Propionyl Chloride'}), 2), (frozenset({'NPP', 'ANPP', '4-piperidone Hydrochloride', 'Phenethyl Bromide', 'Dichloromethane', 'Sodium Chloride'}), 2), (frozenset({'NPP', 'ANPP', '4-piperidone Hydrochloride', 'Phenethyl Bromide', 'Dichloromethane', 'Acetonitrile'}), 2), (frozenset({'NPP', 'ANPP', '4-piperidone Hydrochloride', 'Phenethyl Bromide', 'Propionyl Chloride', 'Aniline'}), 2), (frozenset({'NPP', 'ANPP', '4-piperidone Hydrochloride', 'Phenethyl Bromide', 'Aniline', 'Sodium Chloride'}), 2), (frozenset({'NPP', 'ANPP', '4-piperidone Hydrochloride', 'Phenethyl Bromide', 'Aniline', 'Acetonitrile'}), 2), (frozenset({'NPP', 'ANPP', '4-piperidone Hydrochloride', 'Phenethyl Bromide', 'Propionyl Chloride', 'Sodium Chloride'}), 2), (frozenset({'NPP', 'ANPP', '4-piperidone Hydrochloride', 'Phenethyl Bromide', 'Propionyl Chloride', 'Acetonitrile'}), 2), (frozenset({'NPP', 'ANPP', '4-piperidone Hydrochloride', 'Phenethyl Bromide', 'Sodium Chloride', 'Acetonitrile'}), 2), (frozenset({'NPP', 'ANPP', '4-piperidone Hydrochloride', 'Sodium Sulfate', 'Dichloromethane', 'Sodium Triacetoxyborohydride'}), 2)]\n",
      "(frozenset({'NPP', 'ANPP', '4-piperidone Hydrochloride', 'Sodium Sulfate', 'Dichloromethane', 'Aniline'}), 3)\n",
      "388.8\n",
      "(frozenset({'NPP', 'ANPP', '4-piperidone Hydrochloride', 'Sodium Sulfate', 'Dichloromethane', 'Aniline'}), 3)\n",
      "(frozenset({'NPP', 'ANPP', '4-piperidone Hydrochloride', 'Sodium Sulfate', 'Dichloromethane', 'Propionyl Chloride'}), 3)\n",
      "388.8\n",
      "(frozenset({'NPP', 'ANPP', '4-piperidone Hydrochloride', 'Sodium Sulfate', 'Dichloromethane', 'Propionyl Chloride'}), 3)\n",
      "(frozenset({'NPP', 'ANPP', '4-piperidone Hydrochloride', 'Sodium Sulfate', 'Propionyl Chloride', 'Aniline'}), 3)\n",
      "388.8\n",
      "(frozenset({'NPP', 'ANPP', '4-piperidone Hydrochloride', 'Sodium Sulfate', 'Propionyl Chloride', 'Aniline'}), 3)\n",
      "(frozenset({'NPP', 'ANPP', '4-piperidone Hydrochloride', 'Dichloromethane', 'Propionyl Chloride', 'Aniline'}), 3)\n",
      "518.4\n",
      "(frozenset({'NPP', 'ANPP', '4-piperidone Hydrochloride', 'Dichloromethane', 'Propionyl Chloride', 'Aniline'}), 3)\n",
      "(frozenset({'NPP', 'ANPP', 'Sodium Sulfate', 'Dichloromethane', 'Propionyl Chloride', 'Aniline'}), 3)\n",
      "388.8\n",
      "(frozenset({'NPP', 'ANPP', 'Sodium Sulfate', 'Dichloromethane', 'Propionyl Chloride', 'Aniline'}), 3)\n",
      "(frozenset({'NPP', '4-piperidone Hydrochloride', 'Sodium Sulfate', 'Dichloromethane', 'Propionyl Chloride', 'Aniline'}), 3)\n",
      "388.8\n",
      "(frozenset({'NPP', '4-piperidone Hydrochloride', 'Sodium Sulfate', 'Dichloromethane', 'Propionyl Chloride', 'Aniline'}), 3)\n",
      "(frozenset({'ANPP', '4-piperidone Hydrochloride', 'Sodium Sulfate', 'Dichloromethane', 'Propionyl Chloride', 'Aniline'}), 3)\n",
      "648.0\n",
      "(frozenset({'ANPP', '4-piperidone Hydrochloride', 'Sodium Sulfate', 'Dichloromethane', 'Propionyl Chloride', 'Aniline'}), 3)\n",
      "(frozenset({'NPP', 'Hydrogen', 'Toluene', 'P-toluenesulfonic Acid', 'Aniline', 'Lithium Aluminium Hydride'}), 2)\n",
      "345.6\n",
      "(frozenset({'NPP', 'Hydrogen', 'Toluene', 'P-toluenesulfonic Acid', 'Aniline', 'Lithium Aluminium Hydride'}), 2)\n",
      "(frozenset({'NPP', 'ANPP', 'Sodium Borohydride', 'Propionyl Chloride', 'Aniline', 'Fentanyl Hydrochloride'}), 2)\n",
      "518.4\n",
      "(frozenset({'NPP', 'ANPP', 'Sodium Borohydride', 'Propionyl Chloride', 'Aniline', 'Fentanyl Hydrochloride'}), 2)\n",
      "(frozenset({'NPP', 'ANPP', '4-piperidone Hydrochloride', 'Phenethyl Bromide', 'Sodium Sulfate', 'Dichloromethane'}), 2)\n",
      "259.2\n",
      "(frozenset({'NPP', 'ANPP', '4-piperidone Hydrochloride', 'Phenethyl Bromide', 'Sodium Sulfate', 'Dichloromethane'}), 2)\n",
      "(frozenset({'NPP', 'ANPP', '4-piperidone Hydrochloride', 'Phenethyl Bromide', 'Sodium Sulfate', 'Aniline'}), 2)\n",
      "259.2\n",
      "(frozenset({'NPP', 'ANPP', '4-piperidone Hydrochloride', 'Phenethyl Bromide', 'Sodium Sulfate', 'Aniline'}), 2)\n",
      "(frozenset({'NPP', 'ANPP', '4-piperidone Hydrochloride', 'Phenethyl Bromide', 'Sodium Sulfate', 'Propionyl Chloride'}), 2)\n",
      "259.2\n",
      "(frozenset({'NPP', 'ANPP', '4-piperidone Hydrochloride', 'Phenethyl Bromide', 'Sodium Sulfate', 'Propionyl Chloride'}), 2)\n",
      "(frozenset({'NPP', 'ANPP', '4-piperidone Hydrochloride', 'Phenethyl Bromide', 'Sodium Sulfate', 'Sodium Chloride'}), 2)\n",
      "259.2\n",
      "(frozenset({'NPP', 'ANPP', '4-piperidone Hydrochloride', 'Phenethyl Bromide', 'Sodium Sulfate', 'Sodium Chloride'}), 2)\n",
      "(frozenset({'NPP', 'ANPP', '4-piperidone Hydrochloride', 'Phenethyl Bromide', 'Sodium Sulfate', 'Acetonitrile'}), 2)\n",
      "648.0\n",
      "(frozenset({'NPP', 'ANPP', '4-piperidone Hydrochloride', 'Phenethyl Bromide', 'Sodium Sulfate', 'Acetonitrile'}), 2)\n",
      "(frozenset({'NPP', 'ANPP', '4-piperidone Hydrochloride', 'Phenethyl Bromide', 'Dichloromethane', 'Aniline'}), 2)\n",
      "345.6\n",
      "(frozenset({'NPP', 'ANPP', '4-piperidone Hydrochloride', 'Phenethyl Bromide', 'Dichloromethane', 'Aniline'}), 2)\n",
      "(frozenset({'NPP', 'ANPP', '4-piperidone Hydrochloride', 'Phenethyl Bromide', 'Dichloromethane', 'Propionyl Chloride'}), 2)\n",
      "345.6\n",
      "(frozenset({'NPP', 'ANPP', '4-piperidone Hydrochloride', 'Phenethyl Bromide', 'Dichloromethane', 'Propionyl Chloride'}), 2)\n",
      "(frozenset({'NPP', 'ANPP', '4-piperidone Hydrochloride', 'Phenethyl Bromide', 'Dichloromethane', 'Sodium Chloride'}), 2)\n",
      "345.6\n",
      "(frozenset({'NPP', 'ANPP', '4-piperidone Hydrochloride', 'Phenethyl Bromide', 'Dichloromethane', 'Sodium Chloride'}), 2)\n",
      "(frozenset({'NPP', 'ANPP', '4-piperidone Hydrochloride', 'Phenethyl Bromide', 'Dichloromethane', 'Acetonitrile'}), 2)\n",
      "518.4\n",
      "(frozenset({'NPP', 'ANPP', '4-piperidone Hydrochloride', 'Phenethyl Bromide', 'Dichloromethane', 'Acetonitrile'}), 2)\n",
      "(frozenset({'NPP', 'ANPP', '4-piperidone Hydrochloride', 'Phenethyl Bromide', 'Propionyl Chloride', 'Aniline'}), 2)\n",
      "345.6\n",
      "(frozenset({'NPP', 'ANPP', '4-piperidone Hydrochloride', 'Phenethyl Bromide', 'Propionyl Chloride', 'Aniline'}), 2)\n",
      "(frozenset({'NPP', 'ANPP', '4-piperidone Hydrochloride', 'Phenethyl Bromide', 'Aniline', 'Sodium Chloride'}), 2)\n",
      "345.6\n",
      "(frozenset({'NPP', 'ANPP', '4-piperidone Hydrochloride', 'Phenethyl Bromide', 'Aniline', 'Sodium Chloride'}), 2)\n",
      "(frozenset({'NPP', 'ANPP', '4-piperidone Hydrochloride', 'Phenethyl Bromide', 'Aniline', 'Acetonitrile'}), 2)\n",
      "518.4\n",
      "(frozenset({'NPP', 'ANPP', '4-piperidone Hydrochloride', 'Phenethyl Bromide', 'Aniline', 'Acetonitrile'}), 2)\n",
      "(frozenset({'NPP', 'ANPP', '4-piperidone Hydrochloride', 'Phenethyl Bromide', 'Propionyl Chloride', 'Sodium Chloride'}), 2)\n",
      "345.6\n",
      "(frozenset({'NPP', 'ANPP', '4-piperidone Hydrochloride', 'Phenethyl Bromide', 'Propionyl Chloride', 'Sodium Chloride'}), 2)\n",
      "(frozenset({'NPP', 'ANPP', '4-piperidone Hydrochloride', 'Phenethyl Bromide', 'Propionyl Chloride', 'Acetonitrile'}), 2)\n",
      "518.4\n",
      "(frozenset({'NPP', 'ANPP', '4-piperidone Hydrochloride', 'Phenethyl Bromide', 'Propionyl Chloride', 'Acetonitrile'}), 2)\n",
      "(frozenset({'NPP', 'ANPP', '4-piperidone Hydrochloride', 'Phenethyl Bromide', 'Sodium Chloride', 'Acetonitrile'}), 2)\n",
      "518.4\n",
      "(frozenset({'NPP', 'ANPP', '4-piperidone Hydrochloride', 'Phenethyl Bromide', 'Sodium Chloride', 'Acetonitrile'}), 2)\n",
      "(frozenset({'NPP', 'ANPP', '4-piperidone Hydrochloride', 'Sodium Sulfate', 'Dichloromethane', 'Sodium Triacetoxyborohydride'}), 2)\n",
      "388.8\n",
      "(frozenset({'NPP', 'ANPP', '4-piperidone Hydrochloride', 'Sodium Sulfate', 'Dichloromethane', 'Sodium Triacetoxyborohydride'}), 2)\n"
     ]
    }
   ],
   "source": [
    "import itertools\n",
    "from collections import Counter\n",
    "\n",
    "sectet_appearance = Counter()\n",
    "sectet_lift={}\n",
    "for ind_list in [jensen, zee, jonczyk, optim, sigfried, gupta]:\n",
    "    for node_sectet in itertools.combinations(set(ind_list), 6):\n",
    "        sectet_appearance[frozenset(node_sectet)]+=1 \n",
    "for ind_list in [jensen, zee, jonczyk, optim, sigfried, gupta]:\n",
    "    for node_sectet in itertools.combinations(set(ind_list), 6):\n",
    "        sectet_lift[frozenset(node_sectet)]=(sectet_appearance[frozenset(node_sectet)]*216*6*6)/(appearance[node_sectet[0]]*appearance[node_sectet[1]]*(appearance[node_sectet[2]]))\n",
    "import heapq\n",
    "top5 = heapq.nlargest(25, sectet_appearance.items(), key=lambda x: x[1])\n",
    "print(top5)\n",
    "for i in top5:\n",
    "    if i[0] in sectet_lift:\n",
    "        print(i)\n",
    "        print(sectet_lift[i[0]])\n",
    "    print(i)\n",
    "  "
   ]
  },
  {
   "cell_type": "code",
   "execution_count": 88,
   "id": "3e614720",
   "metadata": {},
   "outputs": [
    {
     "data": {
      "image/png": "[encoded data removed]",
      "text/plain": [
       "<Figure size 640x480 with 1 Axes>"
      ]
     },
     "metadata": {},
     "output_type": "display_data"
    }
   ],
   "source": [
    "import matplotlib.pyplot as plt\n",
    "\n",
    "# Suppose you already have core_counts = {k: count, ...}\n",
    "core_counts = {5: 2, 4: 3, 3: 8, 2: 13, 1: 42}\n",
    "\n",
    "ks = sorted(core_counts.keys(), reverse=True)\n",
    "counts = [core_counts[k] for k in ks]\n",
    "\n",
    "plt.bar(ks, counts)\n",
    "plt.xlabel(\"Appearance in Number of BOMs (k)\")\n",
    "plt.ylabel(\"Number of Ingredients\")\n",
    "# plt.title(\"Core size vs. k across BOMs\")\n",
    "plt.xticks(ks)\n",
    "for i, val in enumerate(counts):\n",
    "    plt.text(ks[i], val+0.5, str(val), ha='center')\n",
    "plt.show()\n"
   ]
  },
  {
   "cell_type": "code",
   "execution_count": 89,
   "id": "d0898748",
   "metadata": {},
   "outputs": [
    {
     "data": {
      "image/png": "[encoded data removed]",
      "text/plain": [
       "<Figure size 800x600 with 2 Axes>"
      ]
     },
     "metadata": {},
     "output_type": "display_data"
    }
   ],
   "source": [
    "import numpy as np\n",
    "import seaborn as sns\n",
    "import matplotlib.pyplot as plt\n",
    "\n",
    "# Your data\n",
    "jaccard = {}\n",
    "nodes = [jensen, zee, jonczyk, optim, sigfried, gupta]\n",
    "labels = [\"Jensen\", \"Zee\", \"Jonczyk\", \"VLM\", \"Sigfried\", \"Gupta\"]\n",
    "\n",
    "for index, node in enumerate(nodes):\n",
    "    for index2, node2 in enumerate(nodes):\n",
    "        if index != index2:\n",
    "            intersection = len(set(node).intersection(set(node2)))\n",
    "            union = len(set(node).union(set(node2)))\n",
    "            jaccard[index, index2] = intersection / union if union > 0 else 0\n",
    "        else:\n",
    "            jaccard[index, index2] = 1  # Jaccard with itself = 1\n",
    "\n",
    "# Convert to matrix\n",
    "size = len(nodes)\n",
    "matrix = np.zeros((size, size))\n",
    "for (i, j), value in jaccard.items():\n",
    "    matrix[i][j] = value\n",
    "\n",
    "# Plot heatmap\n",
    "plt.figure(figsize=(8, 6))\n",
    "sns.heatmap(matrix, annot=True, xticklabels=labels, yticklabels=labels, cmap=\"viridis\", fmt=\".2f\")\n",
    "# plt.title(\"Jaccard Similarity Heatmap\")\n",
    "plt.show()"
   ]
  },
  {
   "cell_type": "code",
   "execution_count": 90,
   "id": "0bc6198f",
   "metadata": {},
   "outputs": [
    {
     "name": "stdout",
     "output_type": "stream",
     "text": [
      "[('NPP', '1-benzyl-4-anilinopiperidine'), ('1-benzyl-4-anilinopiperidine', '1-benzyl-4-N-propionyl-anlinopiperidine'), ('Aniline', '1-benzyl-4-anilinopiperidine'), ('Lithium Aluminium Hydride', '1-benzyl-4-anilinopiperidine'), ('P-toluenesulfonic Acid', '1-benzyl-4-anilinopiperidine'), ('Propionic Anhydride', '1-benzyl-4-N-propionyl-anlinopiperidine'), ('1-benzyl-4-N-propionyl-anlinopiperidine', 'Norfentanyl'), ('Toluene', '1-benzyl-4-N-propionyl-anlinopiperidine'), ('Palladium on Carbon', 'Norfentanyl'), ('Norfentanyl', 'Fentanyl'), ('Hydrogen', 'Norfentanyl'), ('Ethanol', 'Norfentanyl'), ('Phenylethylchloride', 'Fentanyl'), ('Sodium Carbonate', 'Fentanyl'), ('Potassium Iodide', 'Fentanyl'), ('4-methyl-2-pentanone', 'Fentanyl'), ('Pyridine', 'Pirydilpyridinium Chloride'), ('Pirydilpyridinium Chloride', '4-anilinopyridine'), ('Thionyl Chloride', 'Pirydilpyridinium Chloride'), ('Ethanol', 'Pirydilpyridinium Chloride'), ('Ethanol', '4-anilinopyridine'), ('Ethanol', 'N-(4-pyridil)-propionanilide'), ('Ethanol', '1-phenylethyl-4-propionanilinopyridinium Bromide'), ('Ethanol', '1-Phenylethyl-4-anilinopiperidine'), ('Methanol', 'Pirydilpyridinium Chloride'), ('Methanol', '1-Phenylethyl-4-anilinopiperidine'), ('4-anilinopyridine', 'N-(4-pyridil)-propionanilide'), ('Aniline Hydrochloride', '4-anilinopyridine'), ('Sodium Hydroxide', '4-anilinopyridine'), ('Sodium Hydroxide', 'N-(4-pyridil)-propionanilide'), ('Sodium Hydroxide', '1-Phenylethyl-4-anilinopiperidine'), ('Sodium Hydroxide', 'Fentanyl'), ('Propionic Anhydride', 'N-(4-pyridil)-propionanilide'), ('Propionic Anhydride', 'Fentanyl'), ('N-(4-pyridil)-propionanilide', '1-phenylethyl-4-propionanilinopyridinium Bromide'), ('1-phenylethyl-4-propionanilinopyridinium Bromide', '1-Phenylethyl-4-anilinopiperidine'), ('Phenylethyl Bromide', '1-phenylethyl-4-propionanilinopyridinium Bromide'), ('Toluene', '1-phenylethyl-4-propionanilinopyridinium Bromide'), ('Toluene', 'Fentanyl'), ('1-Phenylethyl-4-anilinopiperidine', 'Fentanyl'), ('Chloroform', '1-Phenylethyl-4-anilinopiperidine'), ('Sodium Sulfate', '1-Phenylethyl-4-anilinopiperidine'), ('Sodium Sulfate', 'Fentanyl'), ('Platinum Oxide', '1-Phenylethyl-4-anilinopiperidine'), ('Hydrogen', '1-Phenylethyl-4-anilinopiperidine'), ('Acetic Acid', '1-Phenylethyl-4-anilinopiperidine'), ('Methanol n-hexane', 'Fentanyl'), ('Phenehtylamine', 'N,N-bis(2-methoxycarbonylethyl)phenethylamine'), ('N,N-bis(2-methoxycarbonylethyl)phenethylamine', 'NPP'), ('Methyl Acrylate', 'N,N-bis(2-methoxycarbonylethyl)phenethylamine'), ('Sodium Methoxide', 'NPP'), ('NPP', 'ANPP'), ('Hydrogen', 'NPP'), ('Aniline', 'ANPP'), ('ANPP', 'Fentanyl Hydrochloride'), ('Toluene', 'ANPP'), ('P-toluenesulfonic Acid', 'ANPP'), ('Lithium Aluminium Hydride', 'ANPP'), ('Sodium Borohydride', 'ANPP'), ('Propionyl Chloride', 'Fentanyl Hydrochloride'), ('Benzene', 'Fentanyl Hydrochloride'), ('Sodium Chloride', 'NPP'), ('Sodium Chloride', 'ANPP'), ('Sodium Chloride', 'Fentanyl'), ('Sodium Bicarbonate', 'NPP'), ('Sodium Bicarbonate', 'ANPP'), ('Sodium Bicarbonate', 'Fentanyl'), ('Sodium Sulfate', 'NPP'), ('Sodium Sulfate', 'ANPP'), ('Cesium Carbonate', 'NPP'), ('Phenethyl Bromide', 'NPP'), ('4-piperidone Monohydrate Hydrochloride', 'NPP'), ('Acetonitrile', 'NPP'), ('Ethyl Acetate', 'NPP'), ('Ethyl Acetate', 'ANPP'), ('Ethyl Acetate', 'Fentanyl'), ('Dichloromethane', 'NPP'), ('Dichloromethane', 'ANPP'), ('Dichloromethane', 'Fentanyl'), ('Acetic Acid', 'ANPP'), ('ANPP', 'Fentanyl'), ('Sodium Triacetoxyborohydride', 'ANPP'), (\"Hunig's Base / Diisopropylethylamine / DIPEA\", 'Fentanyl'), ('Propionyl Chloride', 'Fentanyl'), ('Nitrogen', 'NPP'), ('Phenylacetaldehyde', 'NPP'), ('4-piperidone Monohydrochloride', 'NPP'), ('Dichloroethane', 'NPP'), ('Triethylamine', 'NPP'), ('Sodium Acetoxyborohydride', 'NPP'), ('Sodium Triacetoxyborhydride', 'ANPP'), ('Dichloromethane', 'Fentanyl Hydrochloride'), ('Sodium Hydroxide', 'Fentanyl Hydrochloride'), ('Hydrochloric Acid', 'Fentanyl Hydrochloride'), ('Sodium Sulfate', 'Fentanyl Hydrochloride'), ('Acetone', 'Fentanyl Hydrochloride'), ('Petroleum Ether', 'Fentanyl Hydrochloride'), ('4-piperidone Hydrochloride', 'NPP'), ('NPP', 'NPP N Phenyl-imine'), ('Potassium Carbonate', 'NPP'), ('TBAB', 'NPP'), ('TEBA', 'NPP'), ('Polyethylene Glycol', 'NPP'), ('Phenethyl Tosylate', 'NPP'), ('NPP N Phenyl-imine', 'ANPP Hydrochloride'), ('Aniline', 'NPP N Phenyl-imine'), ('4A Molecular Sieve', 'NPP N Phenyl-imine'), ('ANPP Hydrochloride', 'ANPP'), ('Tetrahydrofuran', 'ANPP Hydrochloride'), ('Methanol', 'ANPP Hydrochloride'), ('Sodium Borohydride', 'ANPP Hydrochloride'), ('Hydrochloric Acid', 'ANPP Hydrochloride'), ('Sodium Chloride', 'ANPP Hydrochloride'), ('Sodium Chloride', 'Fentanyl Hydrochloride'), ('Sodium Hydroxide', 'ANPP'), ('Pyridine', 'Fentanyl Hydrochloride')]\n"
     ]
    }
   ],
   "source": [
    "jensen_edges=[('NPP', '1-benzyl-4-anilinopiperidine'), ('1-benzyl-4-anilinopiperidine', '1-benzyl-4-N-propionyl-anlinopiperidine'), ('Aniline', '1-benzyl-4-anilinopiperidine'), ('Lithium Aluminium Hydride', '1-benzyl-4-anilinopiperidine'), ('P-toluenesulfonic Acid', '1-benzyl-4-anilinopiperidine'), ('Propionic Anhydride', '1-benzyl-4-N-propionyl-anlinopiperidine'), ('1-benzyl-4-N-propionyl-anlinopiperidine', 'Norfentanyl'), ('Toluene', '1-benzyl-4-N-propionyl-anlinopiperidine'), ('Palladium on Carbon', 'Norfentanyl'), ('Norfentanyl', 'Fentanyl'), ('Hydrogen', 'Norfentanyl'), ('Ethanol', 'Norfentanyl'), ('Phenylethylchloride', 'Fentanyl'), ('Sodium Carbonate', 'Fentanyl'), ('Potassium Iodide', 'Fentanyl'), ('4-methyl-2-pentanone', 'Fentanyl')]\n",
    "zee_edges=[('Pyridine', 'Pirydilpyridinium Chloride'), ('Pirydilpyridinium Chloride', '4-anilinopyridine'), ('Thionyl Chloride', 'Pirydilpyridinium Chloride'), ('Ethanol', 'Pirydilpyridinium Chloride'), ('Ethanol', '4-anilinopyridine'), ('Ethanol', 'N-(4-pyridil)-propionanilide'), ('Ethanol', '1-phenylethyl-4-propionanilinopyridinium Bromide'), ('Ethanol', '1-Phenylethyl-4-anilinopiperidine'), ('Methanol', 'Pirydilpyridinium Chloride'), ('Methanol', '1-Phenylethyl-4-anilinopiperidine'), ('4-anilinopyridine', 'N-(4-pyridil)-propionanilide'), ('Aniline Hydrochloride', '4-anilinopyridine'), ('Sodium Hydroxide', '4-anilinopyridine'), ('Sodium Hydroxide', 'N-(4-pyridil)-propionanilide'), ('Sodium Hydroxide', '1-Phenylethyl-4-anilinopiperidine'), ('Sodium Hydroxide', 'Fentanyl'), ('Propionic Anhydride', 'N-(4-pyridil)-propionanilide'), ('Propionic Anhydride', 'Fentanyl'), ('N-(4-pyridil)-propionanilide', '1-phenylethyl-4-propionanilinopyridinium Bromide'), ('1-phenylethyl-4-propionanilinopyridinium Bromide', '1-Phenylethyl-4-anilinopiperidine'), ('Phenylethyl Bromide', '1-phenylethyl-4-propionanilinopyridinium Bromide'), ('Toluene', '1-phenylethyl-4-propionanilinopyridinium Bromide'), ('Toluene', 'Fentanyl'), ('1-Phenylethyl-4-anilinopiperidine', 'Fentanyl'), ('Chloroform', '1-Phenylethyl-4-anilinopiperidine'), ('Sodium Sulfate', '1-Phenylethyl-4-anilinopiperidine'), ('Sodium Sulfate', 'Fentanyl'), ('Platinum Oxide', '1-Phenylethyl-4-anilinopiperidine'), ('Hydrogen', '1-Phenylethyl-4-anilinopiperidine'), ('Acetic Acid', '1-Phenylethyl-4-anilinopiperidine'), ('Methanol n-hexane', 'Fentanyl')]\n",
    "jonczyk_edges=[('Phenehtylamine', 'N,N-bis(2-methoxycarbonylethyl)phenethylamine'), ('N,N-bis(2-methoxycarbonylethyl)phenethylamine', 'NPP'), ('Methyl Acrylate', 'N,N-bis(2-methoxycarbonylethyl)phenethylamine'), ('Sodium Methoxide', 'NPP'), ('NPP', 'ANPP'), ('Hydrogen', 'NPP'), ('Aniline', 'ANPP'), ('ANPP', 'Fentanyl Hydrochloride'), ('Toluene', 'ANPP'), ('P-toluenesulfonic Acid', 'ANPP'), ('Lithium Aluminium Hydride', 'ANPP'), ('Sodium Borohydride', 'ANPP'), ('Propionyl Chloride', 'Fentanyl Hydrochloride'), ('Benzene', 'Fentanyl Hydrochloride')]\n",
    "vlm_edges=[('Sodium Chloride', 'NPP'), ('Sodium Chloride', 'ANPP'), ('Sodium Chloride', 'Fentanyl'), ('NPP', 'ANPP'), ('Sodium Bicarbonate', 'NPP'), ('Sodium Bicarbonate', 'ANPP'), ('Sodium Bicarbonate', 'Fentanyl'), ('Sodium Sulfate', 'NPP'), ('Sodium Sulfate', 'ANPP'), ('Sodium Sulfate', 'Fentanyl'), ('Cesium Carbonate', 'NPP'), ('Phenethyl Bromide', 'NPP'), ('4-piperidone Monohydrate Hydrochloride', 'NPP'), ('Acetonitrile', 'NPP'), ('Ethyl Acetate', 'NPP'), ('Ethyl Acetate', 'ANPP'), ('Ethyl Acetate', 'Fentanyl'), ('Dichloromethane', 'NPP'), ('Dichloromethane', 'ANPP'), ('Dichloromethane', 'Fentanyl'), ('Acetic Acid', 'ANPP'), ('ANPP', 'Fentanyl'), ('Sodium Triacetoxyborohydride', 'ANPP'), ('Aniline', 'ANPP'), (\"Hunig's Base / Diisopropylethylamine / DIPEA\", 'Fentanyl'), ('Propionyl Chloride', 'Fentanyl')]\n",
    "gupta_edges=[('Nitrogen', 'NPP'), ('NPP', 'ANPP'), ('Phenylacetaldehyde', 'NPP'), ('4-piperidone Monohydrochloride', 'NPP'), ('Dichloroethane', 'NPP'), ('Triethylamine', 'NPP'), ('Sodium Acetoxyborohydride', 'NPP'), ('ANPP', 'Fentanyl Hydrochloride'), ('Aniline', 'ANPP'), ('Sodium Triacetoxyborhydride', 'ANPP'), ('Acetic Acid', 'ANPP'), ('Propionyl Chloride', 'Fentanyl Hydrochloride'), ('Dichloromethane', 'Fentanyl Hydrochloride'), ('Sodium Hydroxide', 'Fentanyl Hydrochloride'), ('Hydrochloric Acid', 'Fentanyl Hydrochloride'), ('Sodium Sulfate', 'Fentanyl Hydrochloride'), ('Acetone', 'Fentanyl Hydrochloride'), ('Petroleum Ether', 'Fentanyl Hydrochloride')]\n",
    "sigfried_edges=[('4-piperidone Hydrochloride', 'NPP'), ('NPP', 'NPP N Phenyl-imine'), ('Acetonitrile', 'NPP'), ('Potassium Carbonate', 'NPP'), ('TBAB', 'NPP'), ('TEBA', 'NPP'), ('Polyethylene Glycol', 'NPP'), ('Phenethyl Bromide', 'NPP'), ('Phenethyl Tosylate', 'NPP'), ('Sodium Sulfate', 'NPP'), ('NPP N Phenyl-imine', 'ANPP Hydrochloride'), ('Aniline', 'NPP N Phenyl-imine'), ('4A Molecular Sieve', 'NPP N Phenyl-imine'), ('ANPP Hydrochloride', 'ANPP'), ('Tetrahydrofuran', 'ANPP Hydrochloride'), ('Methanol', 'ANPP Hydrochloride'), ('Sodium Borohydride', 'ANPP Hydrochloride'), ('Hydrochloric Acid', 'ANPP Hydrochloride'), ('Hydrochloric Acid', 'Fentanyl Hydrochloride'), ('Sodium Chloride', 'ANPP Hydrochloride'), ('Sodium Chloride', 'Fentanyl Hydrochloride'), ('ANPP', 'Fentanyl Hydrochloride'), ('Sodium Hydroxide', 'ANPP'), ('Dichloromethane', 'ANPP'), ('Dichloromethane', 'Fentanyl Hydrochloride'), ('Pyridine', 'Fentanyl Hydrochloride'), ('Propionyl Chloride', 'Fentanyl Hydrochloride'), ('Acetone', 'Fentanyl Hydrochloride')]\n",
    "pair_freq={}\n",
    "# for i in jensen_edges:\n",
    "#     pair_freq[frozenset(i)]=pair_freq.get(frozenset(i), 0)+1\n",
    "# for i in zee_edges:\n",
    "#     pair_freq[frozenset(i)]=pair_freq.get(frozenset(i), 0)+1\n",
    "# for i in jonczyk_edges:\n",
    "#     pair_freq[frozenset(i)]=pair_freq.get(frozenset(i), 0)+1\n",
    "# for i in vlm_edges:\n",
    "#     pair_freq[frozenset(i)]=pair_freq.get(frozenset(i), 0)+1\n",
    "# for i in gupta_edges:\n",
    "#     pair_freq[frozenset(i)]=pair_freq.get(frozenset(i), 0)+1\n",
    "# for i in sigfried_edges:\n",
    "#     pair_freq[frozenset(i)]=pair_freq.get(frozenset(i), 0)+1\n",
    "for i in jensen_edges:\n",
    "    pair_freq[i] = pair_freq.get(i, 0) + 1\n",
    "for i in zee_edges:\n",
    "    pair_freq[i] = pair_freq.get(i, 0) + 1\n",
    "for i in jonczyk_edges:\n",
    "    pair_freq[i] = pair_freq.get(i, 0) + 1\n",
    "for i in vlm_edges:\n",
    "    pair_freq[i] = pair_freq.get(i, 0) + 1\n",
    "for i in gupta_edges:\n",
    "    pair_freq[i] = pair_freq.get(i, 0) + 1\n",
    "for i in sigfried_edges:\n",
    "    pair_freq[i] = pair_freq.get(i, 0) + 1\n",
    "print([i for i in pair_freq if len(i) >= 2])\n"
   ]
  },
  {
   "cell_type": "code",
   "execution_count": 91,
   "id": "fc5255b9",
   "metadata": {},
   "outputs": [
    {
     "name": "stdout",
     "output_type": "stream",
     "text": [
      "5 4\n"
     ]
    },
    {
     "name": "stderr",
     "output_type": "stream",
     "text": [
      "c:\\Users\\rashi\\anaconda3\\Lib\\site-packages\\networkx\\drawing\\nx_pylab.py:433: UserWarning: No data for colormapping provided via 'c'. Parameters 'cmap' will be ignored\n",
      "  node_collection = ax.scatter(\n"
     ]
    },
    {
     "data": {
      "image/png": "[encoded data removed]",
      "text/plain": [
       "<Figure size 640x480 with 1 Axes>"
      ]
     },
     "metadata": {},
     "output_type": "display_data"
    }
   ],
   "source": [
    "import networkx as nx\n",
    "# Build undirected graph with edge weights\n",
    "G = nx.Graph()\n",
    "for pair, count in pair_freq.items():\n",
    "    if count >=3:\n",
    "        a, b = tuple(pair)\n",
    "        G.add_edge(a, b, weight=count, support=count)\n",
    "print(G.number_of_nodes(), G.number_of_edges())\n",
    "third=list(nx.connected_components(G))[0]\n",
    "pos = nx.spring_layout(G, seed=42)\n",
    "nx.draw(G, pos, with_labels=True, node_color='green', cmap=plt.cm.tab20, edge_color=\"gray\")\n",
    "plt.show()\n"
   ]
  },
  {
   "cell_type": "code",
   "execution_count": 92,
   "id": "b070baf1",
   "metadata": {},
   "outputs": [
    {
     "name": "stdout",
     "output_type": "stream",
     "text": [
      "13 13\n"
     ]
    },
    {
     "data": {
      "image/png": "[encoded data removed]",
      "text/plain": [
       "<Figure size 640x480 with 1 Axes>"
      ]
     },
     "metadata": {},
     "output_type": "display_data"
    }
   ],
   "source": [
    "G = nx.Graph()\n",
    "for pair, count in pair_freq.items():\n",
    "    if count >=2:\n",
    "        a, b = tuple(pair)\n",
    "        G.add_edge(a, b, weight=count, support=count)\n",
    "print(G.number_of_nodes(), G.number_of_edges())\n",
    "second=list(nx.connected_components(G))[0]\n",
    "\n",
    "pos = nx.spring_layout(G, seed=42)\n",
    "nx.draw(G, pos, with_labels=True, node_color='blue', cmap=plt.cm.tab20, edge_color=\"gray\")\n",
    "plt.show()"
   ]
  },
  {
   "cell_type": "code",
   "execution_count": 93,
   "id": "86e74a6e",
   "metadata": {},
   "outputs": [
    {
     "name": "stdout",
     "output_type": "stream",
     "text": [
      "{'Sodium Sulfate': 1, 'Fentanyl': 1, 'NPP': 1, 'ANPP': 2, 'Aniline': 2, 'Fentanyl Hydrochloride': 0, 'Propionyl Chloride': 0, 'Phenethyl Bromide': 1, 'Acetonitrile': 1, 'Dichloromethane': 2, 'Acetic Acid': 2, 'Hydrochloric Acid': 0, 'Acetone': 0}\n"
     ]
    }
   ],
   "source": [
    "import community as community_louvain  # pip install python-louvain\n",
    "\n",
    "partition = community_louvain.best_partition(G, weight=\"weight\", resolution=1.0)\n",
    "# partition is a dict: {node: community_id}\n",
    "print(partition)"
   ]
  },
  {
   "cell_type": "code",
   "execution_count": 94,
   "id": "344f9e36",
   "metadata": {},
   "outputs": [
    {
     "name": "stdout",
     "output_type": "stream",
     "text": [
      "[frozenset({'Fentanyl Hydrochloride', 'Dichloromethane', 'ANPP'})]\n"
     ]
    }
   ],
   "source": [
    "from networkx.algorithms.community import k_clique_communities\n",
    "comms = list(k_clique_communities(G, k=3))  # communities built by touching 3-cliques\n",
    "print(comms)"
   ]
  },
  {
   "cell_type": "code",
   "execution_count": 95,
   "id": "1f2cf50d",
   "metadata": {},
   "outputs": [
    {
     "data": {
      "text/plain": [
       "[['Fentanyl', 'Sodium Sulfate'],\n",
       " ['ANPP', 'NPP'],\n",
       " ['ANPP', 'Dichloromethane', 'Fentanyl Hydrochloride'],\n",
       " ['ANPP', 'Acetic Acid'],\n",
       " ['ANPP', 'Aniline'],\n",
       " ['Phenethyl Bromide', 'NPP'],\n",
       " ['Hydrochloric Acid', 'Fentanyl Hydrochloride'],\n",
       " ['Sodium Sulfate', 'NPP'],\n",
       " ['Propionyl Chloride', 'Fentanyl Hydrochloride'],\n",
       " ['Acetone', 'Fentanyl Hydrochloride'],\n",
       " ['Acetonitrile', 'NPP']]"
      ]
     },
     "execution_count": 95,
     "metadata": {},
     "output_type": "execute_result"
    }
   ],
   "source": [
    "list(nx.find_cliques(G))  # each is a list of nodes (fully connected)"
   ]
  }
 ],
 "metadata": {
  "kernelspec": {
   "display_name": "base",
   "language": "python",
   "name": "python3"
  },
  "language_info": {
   "codemirror_mode": {
    "name": "ipython",
    "version": 3
   },
   "file_extension": ".py",
   "mimetype": "text/x-python",
   "name": "python",
   "nbconvert_exporter": "python",
   "pygments_lexer": "ipython3",
   "version": "3.11.5"
  }
 },
 "nbformat": 4,
 "nbformat_minor": 5
}
